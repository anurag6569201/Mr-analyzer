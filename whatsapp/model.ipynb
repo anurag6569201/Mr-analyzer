{
 "cells": [
  {
   "cell_type": "code",
   "execution_count": 10,
   "metadata": {},
   "outputs": [],
   "source": [
    "# !pip install openpyxl\n",
    "# !pip install langchain-experimental\n",
    "# !pip install langchain-community\n",
    "# !pip install langchain\n",
    "# !pip install langchain-google-genai"
   ]
  },
  {
   "cell_type": "code",
   "execution_count": 11,
   "metadata": {},
   "outputs": [],
   "source": [
    "# !pip install tabulate"
   ]
  },
  {
   "cell_type": "code",
   "execution_count": 12,
   "metadata": {},
   "outputs": [],
   "source": [
    "import pandas as pd\n",
    "output_csv = 'static/whatsapp/temp/data.csv'\n",
    "df=pd.read_csv(output_csv)"
   ]
  },
  {
   "cell_type": "code",
   "execution_count": 13,
   "metadata": {},
   "outputs": [
    {
     "data": {
      "text/html": [
       "<div>\n",
       "<style scoped>\n",
       "    .dataframe tbody tr th:only-of-type {\n",
       "        vertical-align: middle;\n",
       "    }\n",
       "\n",
       "    .dataframe tbody tr th {\n",
       "        vertical-align: top;\n",
       "    }\n",
       "\n",
       "    .dataframe thead th {\n",
       "        text-align: right;\n",
       "    }\n",
       "</style>\n",
       "<table border=\"1\" class=\"dataframe\">\n",
       "  <thead>\n",
       "    <tr style=\"text-align: right;\">\n",
       "      <th></th>\n",
       "      <th>Timestamp</th>\n",
       "      <th>Sender</th>\n",
       "      <th>Message</th>\n",
       "    </tr>\n",
       "  </thead>\n",
       "  <tbody>\n",
       "    <tr>\n",
       "      <th>0</th>\n",
       "      <td>9/4/23, 12:08 PM</td>\n",
       "      <td>anurag</td>\n",
       "      <td>...</td>\n",
       "    </tr>\n",
       "    <tr>\n",
       "      <th>1</th>\n",
       "      <td>9/4/23, 12:08 PM</td>\n",
       "      <td>anurag</td>\n",
       "      <td>https://chat.whatsapp.com/COi6PxBqKAZ8Ql4W4ibkdh</td>\n",
       "    </tr>\n",
       "    <tr>\n",
       "      <th>2</th>\n",
       "      <td>9/9/23, 8:59 AM</td>\n",
       "      <td>anurag</td>\n",
       "      <td>Class ni aaoge kya</td>\n",
       "    </tr>\n",
       "    <tr>\n",
       "      <th>3</th>\n",
       "      <td>9/9/23, 9:31 AM</td>\n",
       "      <td>Anirudha Sahu</td>\n",
       "      <td>Aa gaya bhai</td>\n",
       "    </tr>\n",
       "    <tr>\n",
       "      <th>4</th>\n",
       "      <td>9/10/23, 6:52 PM</td>\n",
       "      <td>Anirudha Sahu</td>\n",
       "      <td>&lt;Media omitted&gt;</td>\n",
       "    </tr>\n",
       "  </tbody>\n",
       "</table>\n",
       "</div>"
      ],
      "text/plain": [
       "          Timestamp         Sender  \\\n",
       "0  9/4/23, 12:08 PM         anurag   \n",
       "1  9/4/23, 12:08 PM         anurag   \n",
       "2   9/9/23, 8:59 AM         anurag   \n",
       "3   9/9/23, 9:31 AM  Anirudha Sahu   \n",
       "4  9/10/23, 6:52 PM  Anirudha Sahu   \n",
       "\n",
       "                                            Message  \n",
       "0                                               ...  \n",
       "1  https://chat.whatsapp.com/COi6PxBqKAZ8Ql4W4ibkdh  \n",
       "2                                Class ni aaoge kya  \n",
       "3                                      Aa gaya bhai  \n",
       "4                                   <Media omitted>  "
      ]
     },
     "execution_count": 13,
     "metadata": {},
     "output_type": "execute_result"
    }
   ],
   "source": [
    "df.head()"
   ]
  },
  {
   "cell_type": "code",
   "execution_count": 14,
   "metadata": {},
   "outputs": [],
   "source": [
    "from langchain_experimental.agents import create_csv_agent\n",
    "from langchain_google_genai import ChatGoogleGenerativeAI"
   ]
  },
  {
   "cell_type": "code",
   "execution_count": 15,
   "metadata": {},
   "outputs": [],
   "source": [
    "import os\n",
    "from dotenv import load_dotenv\n",
    "\n",
    "load_dotenv()\n",
    "google_gemini_api=os.getenv(\"GOOGLE_API_KEY\")"
   ]
  },
  {
   "cell_type": "code",
   "execution_count": 16,
   "metadata": {},
   "outputs": [
    {
     "name": "stderr",
     "output_type": "stream",
     "text": [
      "I0000 00:00:1725270942.318384   83713 check_gcp_environment_no_op.cc:29] ALTS: Platforms other than Linux and Windows are not supported\n",
      "I0000 00:00:1725270942.319269   83713 check_gcp_environment_no_op.cc:29] ALTS: Platforms other than Linux and Windows are not supported\n"
     ]
    }
   ],
   "source": [
    "llm_model=ChatGoogleGenerativeAI(model=\"gemini-1.5-flash\",google_api_key=google_gemini_api)"
   ]
  },
  {
   "cell_type": "code",
   "execution_count": 17,
   "metadata": {},
   "outputs": [],
   "source": [
    "agent = create_csv_agent(llm_model,'static/whatsapp/temp/data.csv', verbose=True,allow_dangerous_code=True)"
   ]
  },
  {
   "cell_type": "code",
   "execution_count": 24,
   "metadata": {},
   "outputs": [
    {
     "name": "stdout",
     "output_type": "stream",
     "text": [
      "\n",
      "\n",
      "\u001b[1m> Entering new AgentExecutor chain...\u001b[0m\n",
      "\u001b[32;1m\u001b[1;3mThought: I need to find the unique senders in the dataframe and count how many there are.\n",
      "Action: python_repl_ast\n",
      "Action Input: print(df['Sender'].nunique())\u001b[0m\u001b[36;1m\u001b[1;3m3\n",
      "\u001b[0m\u001b[32;1m\u001b[1;3mThought: I need to find the unique senders in the dataframe and count how many there are. Then I need to find how many messages each sender has sent.\n",
      "Action: python_repl_ast\n",
      "Action Input: print(df['Sender'].value_counts())\u001b[0m\u001b[36;1m\u001b[1;3mSender\n",
      "anurag           265\n",
      "Anirudha Sahu    189\n",
      "1);                1\n",
      "Name: count, dtype: int64\n",
      "\u001b[0m\u001b[32;1m\u001b[1;3mThought: I now know the final answer\n",
      "Final Answer: There are 3 people in the conversation: anurag, Anirudha Sahu, and an unknown sender (1);. Anurag has sent the most messages (265), followed by Anirudha Sahu (189), and the unknown sender (1). \n",
      "\u001b[0m\n",
      "\n",
      "\u001b[1m> Finished chain.\u001b[0m\n"
     ]
    },
    {
     "data": {
      "text/plain": [
       "'There are 3 people in the conversation: anurag, Anirudha Sahu, and an unknown sender (1);. Anurag has sent the most messages (265), followed by Anirudha Sahu (189), and the unknown sender (1).'"
      ]
     },
     "execution_count": 24,
     "metadata": {},
     "output_type": "execute_result"
    }
   ],
   "source": [
    "agent.run(\"how many person on the conversation and how much importance they have\")"
   ]
  }
 ],
 "metadata": {
  "kernelspec": {
   "display_name": "analyzerenv",
   "language": "python",
   "name": "python3"
  },
  "language_info": {
   "codemirror_mode": {
    "name": "ipython",
    "version": 3
   },
   "file_extension": ".py",
   "mimetype": "text/x-python",
   "name": "python",
   "nbconvert_exporter": "python",
   "pygments_lexer": "ipython3",
   "version": "3.12.4"
  }
 },
 "nbformat": 4,
 "nbformat_minor": 2
}
