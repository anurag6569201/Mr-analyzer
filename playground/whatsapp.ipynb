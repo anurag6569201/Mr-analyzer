{
 "cells": [
  {
   "cell_type": "code",
   "execution_count": 1,
   "metadata": {},
   "outputs": [],
   "source": [
    "import csv"
   ]
  },
  {
   "cell_type": "code",
   "execution_count": 4,
   "metadata": {},
   "outputs": [],
   "source": [
    "def initializing(uploaded_file_path):\n",
    "    with open(uploaded_file_path, 'r', encoding='utf-8') as txt_file, open(\"data.csv\", 'w', newline='', encoding='utf-8') as csv_file:\n",
    "        csv_writer = csv.writer(csv_file)\n",
    "        csv_writer.writerow(['Timestamp', 'Sender', 'Message'])\n",
    "\n",
    "        timestamp = \"\"\n",
    "        sender = \"\"\n",
    "        message = \"\"\n",
    "\n",
    "        for line in txt_file:\n",
    "            parts = line.split(' - ', 1)\n",
    "            if len(parts) == 2:\n",
    "                timestamp, content = parts\n",
    "                sender_end_index = content.find(': ')\n",
    "                if sender_end_index != -1:\n",
    "                    sender = content[:sender_end_index]\n",
    "                    message = content[sender_end_index + 2:].strip()\n",
    "                else:\n",
    "                    sender = content.strip()\n",
    "                    message = \"\"\n",
    "            else:\n",
    "                message += line.strip()\n",
    "\n",
    "            if timestamp and sender and message:\n",
    "                csv_writer.writerow([timestamp, sender, message])\n",
    "                timestamp = sender = message = \"\"\n",
    "        \n",
    "        if timestamp and sender and message:\n",
    "            csv_writer.writerow([timestamp, sender, message])"
   ]
  },
  {
   "cell_type": "code",
   "execution_count": 6,
   "metadata": {},
   "outputs": [],
   "source": [
    "initializing('uj.txt')"
   ]
  },
  {
   "cell_type": "code",
   "execution_count": 7,
   "metadata": {},
   "outputs": [
    {
     "name": "stdout",
     "output_type": "stream",
     "text": [
      "page_content='Timestamp: 8/29/23, 8:37 PM\n",
      "Sender: Ujjwal Kala\n",
      "Message: .' metadata={'source': 'data.csv', 'row': 0}\n",
      "page_content='Timestamp: 8/29/23, 8:37 PM\n",
      "Sender: Ujjwal Kala\n",
      "Message: https://chat.whatsapp.com/COi6PxBqKAZ8Ql4W4ibkdh' metadata={'source': 'data.csv', 'row': 1}\n"
     ]
    }
   ],
   "source": [
    "from langchain_community.document_loaders.csv_loader import CSVLoader\n",
    "\n",
    "file_path = (\n",
    "    \"data.csv\"\n",
    ")\n",
    "\n",
    "loader = CSVLoader(file_path=file_path)\n",
    "data = loader.load()\n",
    "\n",
    "for record in data[:2]:\n",
    "    print(record)"
   ]
  },
  {
   "cell_type": "code",
   "execution_count": 8,
   "metadata": {},
   "outputs": [
    {
     "name": "stderr",
     "output_type": "stream",
     "text": [
      "/Users/anuragsingh/Documents/GitHub/Mr-analyzer/analyzerenv/lib/python3.12/site-packages/tqdm/auto.py:21: TqdmWarning: IProgress not found. Please update jupyter and ipywidgets. See https://ipywidgets.readthedocs.io/en/stable/user_install.html\n",
      "  from .autonotebook import tqdm as notebook_tqdm\n",
      "WARNING: All log messages before absl::InitializeLog() is called are written to STDERR\n",
      "I0000 00:00:1723349130.566988   13231 config.cc:230] gRPC experiments enabled: call_status_override_on_cancellation, event_engine_dns, event_engine_listener, http2_stats_fix, monitoring_experiment, pick_first_new, trace_record_callops, work_serializer_clears_time_cache\n",
      "I0000 00:00:1723349130.573131   13231 check_gcp_environment_no_op.cc:29] ALTS: Platforms other than Linux and Windows are not supported\n",
      "I0000 00:00:1723349130.578024   13231 check_gcp_environment_no_op.cc:29] ALTS: Platforms other than Linux and Windows are not supported\n",
      "I0000 00:00:1723349130.578558   13231 check_gcp_environment_no_op.cc:29] ALTS: Platforms other than Linux and Windows are not supported\n"
     ]
    }
   ],
   "source": [
    "from langchain_google_genai import ChatGoogleGenerativeAI\n",
    "from langchain_google_genai import GoogleGenerativeAIEmbeddings\n",
    "import os\n",
    "from dotenv import load_dotenv\n",
    "\n",
    "load_dotenv()\n",
    "google_gemini_api=os.getenv(\"GOOGLE_API_KEY\")\n",
    "embedding = GoogleGenerativeAIEmbeddings(model=\"models/embedding-001\")\n",
    "llm_model=ChatGoogleGenerativeAI(model=\"gemini-pro\",google_api_key=google_gemini_api)"
   ]
  },
  {
   "cell_type": "code",
   "execution_count": 9,
   "metadata": {},
   "outputs": [],
   "source": [
    "from langchain.text_splitter import RecursiveCharacterTextSplitter\n",
    "\n",
    "text_splitter=RecursiveCharacterTextSplitter(chunk_size=500,chunk_overlap=100)\n",
    "text=text_splitter.split_documents(data)"
   ]
  },
  {
   "cell_type": "code",
   "execution_count": 12,
   "metadata": {},
   "outputs": [
    {
     "data": {
      "text/plain": [
       "'Timestamp: 9/10/23, 6:23\\u202fPM\\nSender: anurag\\nMessage: Dusre wale ka yahe aaya kya'"
      ]
     },
     "execution_count": 12,
     "metadata": {},
     "output_type": "execute_result"
    }
   ],
   "source": [
    "text[50].page_content"
   ]
  },
  {
   "cell_type": "code",
   "execution_count": 13,
   "metadata": {},
   "outputs": [],
   "source": [
    "from langchain.vectorstores import Chroma\n",
    "persist_directory=\"db\"\n",
    "vectordb=Chroma.from_documents(\n",
    "    documents=text,\n",
    "    embedding=embedding,\n",
    "    persist_directory=persist_directory\n",
    ")"
   ]
  },
  {
   "cell_type": "code",
   "execution_count": 14,
   "metadata": {},
   "outputs": [
    {
     "name": "stderr",
     "output_type": "stream",
     "text": [
      "/Users/anuragsingh/Documents/GitHub/Mr-analyzer/analyzerenv/lib/python3.12/site-packages/langchain_core/_api/deprecation.py:139: LangChainDeprecationWarning: Since Chroma 0.4.x the manual persistence method is no longer supported as docs are automatically persisted.\n",
      "  warn_deprecated(\n"
     ]
    }
   ],
   "source": [
    "vectordb.persist()\n",
    "vectordb=None\n",
    "vectordb=Chroma(persist_directory=persist_directory,embedding_function=embedding)"
   ]
  },
  {
   "cell_type": "code",
   "execution_count": 15,
   "metadata": {},
   "outputs": [],
   "source": [
    "retriver=vectordb.as_retriever()"
   ]
  },
  {
   "cell_type": "code",
   "execution_count": 16,
   "metadata": {},
   "outputs": [
    {
     "name": "stderr",
     "output_type": "stream",
     "text": [
      "/Users/anuragsingh/Documents/GitHub/Mr-analyzer/analyzerenv/lib/python3.12/site-packages/langchain_core/_api/deprecation.py:139: LangChainDeprecationWarning: The method `BaseRetriever.get_relevant_documents` was deprecated in langchain-core 0.1.46 and will be removed in 0.3.0. Use invoke instead.\n",
      "  warn_deprecated(\n"
     ]
    }
   ],
   "source": [
    "docs=retriver.get_relevant_documents(\"is ujjwal is good friend\")"
   ]
  },
  {
   "cell_type": "code",
   "execution_count": 17,
   "metadata": {},
   "outputs": [
    {
     "data": {
      "text/plain": [
       "[Document(metadata={'row': 212, 'source': 'data.csv'}, page_content='Timestamp: 11/5/23, 8:58\\u202fPM\\nSender: anurag\\nMessage: ujjwal apna cs ka ppt bhej'),\n",
       " Document(metadata={'row': 79, 'source': 'data.csv'}, page_content='Timestamp: 9/11/23, 11:09\\u202fPM\\nSender: Ujjwal Kala\\nMessage: yaar ye smj ni aya aaj wala'),\n",
       " Document(metadata={'row': 190, 'source': 'data.csv'}, page_content='Timestamp: 10/16/23, 11:06\\u202fAM\\nSender: Ujjwal Kala\\nMessage: ok sir'),\n",
       " Document(metadata={'row': 240, 'source': 'data.csv'}, page_content='Timestamp: 1/7/24, 12:24\\u202fPM\\nSender: Ujjwal Kala\\nMessage: bhai🥰😍 client ki spelling thik krle bas 😄 ab roz tu party dega,💥💥😎😎')]"
      ]
     },
     "execution_count": 17,
     "metadata": {},
     "output_type": "execute_result"
    }
   ],
   "source": [
    "docs"
   ]
  },
  {
   "cell_type": "code",
   "execution_count": 18,
   "metadata": {},
   "outputs": [
    {
     "name": "stderr",
     "output_type": "stream",
     "text": [
      "I0000 00:00:1723349538.790944   13231 check_gcp_environment_no_op.cc:29] ALTS: Platforms other than Linux and Windows are not supported\n",
      "I0000 00:00:1723349538.791686   13231 check_gcp_environment_no_op.cc:29] ALTS: Platforms other than Linux and Windows are not supported\n"
     ]
    }
   ],
   "source": [
    "from langchain.chains import RetrievalQA\n",
    "llm_model=ChatGoogleGenerativeAI(model=\"gemini-1.5-pro\",google_api_key=google_gemini_api)\n",
    "qa_chain=RetrievalQA.from_chain_type(\n",
    "    llm=llm_model,\n",
    "    chain_type=\"stuff\",\n",
    "    retriever=retriver,\n",
    "    return_source_documents=True\n",
    ")"
   ]
  },
  {
   "cell_type": "code",
   "execution_count": 19,
   "metadata": {},
   "outputs": [
    {
     "name": "stderr",
     "output_type": "stream",
     "text": [
      "/Users/anuragsingh/Documents/GitHub/Mr-analyzer/analyzerenv/lib/python3.12/site-packages/langchain_core/_api/deprecation.py:139: LangChainDeprecationWarning: The method `Chain.__call__` was deprecated in langchain 0.1.0 and will be removed in 0.3.0. Use invoke instead.\n",
      "  warn_deprecated(\n"
     ]
    },
    {
     "data": {
      "text/plain": [
       "{'query': 'is ujjwal is good friend',\n",
       " 'result': 'I cannot answer this question. There is no information about the nature of their friendship. \\n',\n",
       " 'source_documents': [Document(metadata={'row': 212, 'source': 'data.csv'}, page_content='Timestamp: 11/5/23, 8:58\\u202fPM\\nSender: anurag\\nMessage: ujjwal apna cs ka ppt bhej'),\n",
       "  Document(metadata={'row': 79, 'source': 'data.csv'}, page_content='Timestamp: 9/11/23, 11:09\\u202fPM\\nSender: Ujjwal Kala\\nMessage: yaar ye smj ni aya aaj wala'),\n",
       "  Document(metadata={'row': 190, 'source': 'data.csv'}, page_content='Timestamp: 10/16/23, 11:06\\u202fAM\\nSender: Ujjwal Kala\\nMessage: ok sir'),\n",
       "  Document(metadata={'row': 240, 'source': 'data.csv'}, page_content='Timestamp: 1/7/24, 12:24\\u202fPM\\nSender: Ujjwal Kala\\nMessage: bhai🥰😍 client ki spelling thik krle bas 😄 ab roz tu party dega,💥💥😎😎')]}"
      ]
     },
     "execution_count": 19,
     "metadata": {},
     "output_type": "execute_result"
    }
   ],
   "source": [
    "query=\"is ujjwal is good friend\"\n",
    "llm_response=qa_chain(query)\n",
    "llm_response"
   ]
  }
 ],
 "metadata": {
  "kernelspec": {
   "display_name": "analyzerenv",
   "language": "python",
   "name": "python3"
  },
  "language_info": {
   "codemirror_mode": {
    "name": "ipython",
    "version": 3
   },
   "file_extension": ".py",
   "mimetype": "text/x-python",
   "name": "python",
   "nbconvert_exporter": "python",
   "pygments_lexer": "ipython3",
   "version": "3.12.4"
  }
 },
 "nbformat": 4,
 "nbformat_minor": 2
}
