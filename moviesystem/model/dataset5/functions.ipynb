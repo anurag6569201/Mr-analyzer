{
 "cells": [
  {
   "cell_type": "code",
   "execution_count": 83,
   "metadata": {},
   "outputs": [],
   "source": [
    "import numpy as np\n",
    "import pandas as pd"
   ]
  },
  {
   "cell_type": "markdown",
   "metadata": {},
   "source": [
    "Loading the dataset"
   ]
  },
  {
   "cell_type": "code",
   "execution_count": 84,
   "metadata": {},
   "outputs": [],
   "source": [
    "movie_df=pd.read_csv('TMDB_new_dataset.csv')"
   ]
  },
  {
   "cell_type": "code",
   "execution_count": 85,
   "metadata": {},
   "outputs": [
    {
     "data": {
      "text/plain": [
       "(12349, 25)"
      ]
     },
     "execution_count": 85,
     "metadata": {},
     "output_type": "execute_result"
    }
   ],
   "source": [
    "movie_df.shape"
   ]
  },
  {
   "cell_type": "code",
   "execution_count": 92,
   "metadata": {},
   "outputs": [],
   "source": [
    "poster=movie_df['poster_path'][:10]\n",
    "title=movie_df['title'][:10]\n",
    "overview=movie_df['overview'][:10]\n",
    "date=movie_df['release_date'][:10]\n",
    "runtime=movie_df['runtime'][:10]"
   ]
  },
  {
   "cell_type": "code",
   "execution_count": 95,
   "metadata": {},
   "outputs": [
    {
     "name": "stdout",
     "output_type": "stream",
     "text": [
      "1 :  /oYuLEt3zVCKq57qu2F8dT7NIa6f.jpg\n",
      "2 :  Inception\n",
      "3 :  Cobb, a skilled thief who commits corporate espionage by infiltrating the subconscious of his targets is offered a chance to regain his old life as payment for a task considered to be impossible: \"inception\", the implantation of another person's idea into a target's subconscious.\n",
      "4 :  2010-07-15\n",
      "5 :  148\n",
      "1 :  /gEU2QniE6E77NI6lCU6MxlNBvIx.jpg\n",
      "2 :  Interstellar\n",
      "3 :  The adventures of a group of explorers who make use of a newly discovered wormhole to surpass the limitations on human space travel and conquer the vast distances involved in an interstellar voyage.\n",
      "4 :  2014-11-05\n",
      "5 :  169\n",
      "1 :  /qJ2tW6WMUDux911r6m7haRef0WH.jpg\n",
      "2 :  The Dark Knight\n",
      "3 :  Batman raises the stakes in his war on crime. With the help of Lt. Jim Gordon and District Attorney Harvey Dent, Batman sets out to dismantle the remaining criminal organizations that plague the streets. The partnership proves to be effective, but they soon find themselves prey to a reign of chaos unleashed by a rising criminal mastermind known to the terrified citizens of Gotham as the Joker.\n",
      "4 :  2008-07-16\n",
      "5 :  152\n",
      "1 :  /kyeqWdyUXW608qlYkRqosgbbJyK.jpg\n",
      "2 :  Avatar\n",
      "3 :  In the 22nd century, a paraplegic Marine is dispatched to the moon Pandora on a unique mission, but becomes torn between following orders and protecting an alien civilization.\n",
      "4 :  2009-12-15\n",
      "5 :  162\n",
      "1 :  /RYMX2wcKCBAr24UyPD7xwmjaTn.jpg\n",
      "2 :  The Avengers\n",
      "3 :  When an unexpected enemy emerges and threatens global safety and security, Nick Fury, director of the international peacekeeping agency known as S.H.I.E.L.D., finds himself in need of a team to pull the world back from the brink of disaster. Spanning the globe, a daring recruitment effort begins!\n",
      "4 :  2012-04-25\n",
      "5 :  143\n",
      "1 :  /zq8Cl3PNIDGU3iWNRoc5nEZ6pCe.jpg\n",
      "2 :  Deadpool\n",
      "3 :  The origin story of former Special Forces operative turned mercenary Wade Wilson, who, after being subjected to a rogue experiment that leaves him with accelerated healing powers, adopts the alter ego Deadpool. Armed with his new abilities and a dark, twisted sense of humor, Deadpool hunts down the man who nearly destroyed his life.\n",
      "4 :  2016-02-09\n",
      "5 :  108\n",
      "1 :  /7WsyChQLEftFiDOVTGkv3hFpyyt.jpg\n",
      "2 :  Avengers: Infinity War\n",
      "3 :  As the Avengers and their allies have continued to protect the world from threats too large for any one hero to handle, a new danger has emerged from the cosmic shadows: Thanos. A despot of intergalactic infamy, his goal is to collect all six Infinity Stones, artifacts of unimaginable power, and use them to inflict his twisted will on all of reality. Everything the Avengers have fought for has led up to this moment - the fate of Earth and existence itself has never been more uncertain.\n",
      "4 :  2018-04-25\n",
      "5 :  149\n",
      "1 :  /pB8BM7pdSp6B6Ih7QZ4DrQ3PmJK.jpg\n",
      "2 :  Fight Club\n",
      "3 :  A ticking-time-bomb insomniac and a slippery soap salesman channel primal male aggression into a shocking new form of therapy. Their concept catches on, with underground \"fight clubs\" forming in every town, until an eccentric gets in the way and ignites an out-of-control spiral toward oblivion.\n",
      "4 :  1999-10-15\n",
      "5 :  139\n",
      "1 :  /r7vmZjiyZw9rpJMQJdXpjgiCOk9.jpg\n",
      "2 :  Guardians of the Galaxy\n",
      "3 :  Light years from Earth, 26 years after being abducted, Peter Quill finds himself the prime target of a manhunt after discovering an orb wanted by Ronan the Accuser.\n",
      "4 :  2014-07-30\n",
      "5 :  121\n",
      "1 :  /d5iIlFn5s0ImszYzBPb8JPIfbXD.jpg\n",
      "2 :  Pulp Fiction\n",
      "3 :  A burger-loving hit man, his philosophical partner, a drug-addled gangster's moll and a washed-up boxer converge in this sprawling, comedic crime caper. Their adventures unfurl in three stories that ingeniously trip back and forth in time.\n",
      "4 :  1994-09-10\n",
      "5 :  154\n"
     ]
    }
   ],
   "source": [
    "for i in range(0,10):\n",
    "    print(\"1 : \",poster[i])\n",
    "    print(\"2 : \",title[i])\n",
    "    print(\"3 : \",overview[i])\n",
    "    print(\"4 : \",date[i])\n",
    "    print(\"5 : \",runtime[i])"
   ]
  }
 ],
 "metadata": {
  "kernelspec": {
   "display_name": "analyzer",
   "language": "python",
   "name": "python3"
  },
  "language_info": {
   "codemirror_mode": {
    "name": "ipython",
    "version": 3
   },
   "file_extension": ".py",
   "mimetype": "text/x-python",
   "name": "python",
   "nbconvert_exporter": "python",
   "pygments_lexer": "ipython3",
   "version": "3.12.0"
  }
 },
 "nbformat": 4,
 "nbformat_minor": 2
}
