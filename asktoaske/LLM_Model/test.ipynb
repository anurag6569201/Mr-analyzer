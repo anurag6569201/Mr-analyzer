{
 "cells": [
  {
   "cell_type": "code",
   "execution_count": 139,
   "metadata": {},
   "outputs": [],
   "source": [
    "# pip install langchain\n",
    "# pip install chromadb\n",
    "# pip install pypdf"
   ]
  },
  {
   "cell_type": "code",
   "execution_count": 140,
   "metadata": {},
   "outputs": [],
   "source": [
    "from langchain.document_loaders import PyPDFDirectoryLoader\n",
    "from langchain.text_splitter import RecursiveCharacterTextSplitter\n",
    "from langchain_google_genai import GoogleGenerativeAIEmbeddings\n",
    "from langchain_google_genai import ChatGoogleGenerativeAI\n",
    "\n",
    "from langchain.vectorstores import Chroma"
   ]
  },
  {
   "cell_type": "code",
   "execution_count": 141,
   "metadata": {},
   "outputs": [],
   "source": [
    "pdf_loader=PyPDFDirectoryLoader(\"pdfs\")"
   ]
  },
  {
   "cell_type": "code",
   "execution_count": 142,
   "metadata": {},
   "outputs": [],
   "source": [
    "data=pdf_loader.load()"
   ]
  },
  {
   "cell_type": "code",
   "execution_count": 143,
   "metadata": {},
   "outputs": [
    {
     "data": {
      "text/plain": [
       "\"Anurag Singh  \\nInternational Institute  of Information Technology Bhubaneswar,  Orrisa  - India  \\nPhn: +91 -9098691543      Email: b323009@iiit -bh.ac.in  GitHub  | LinkedIn  \\n  Portfolio: https://anurag.icu         Blogging: https://blogsingh.anurag.icu  \\n \\n \\nEDUCATION  \\n \\n \\n● Simran Public Hr. Sec. School, Maihar (M.P.)  2020 \\nClass X: Madhya Pradesh Board of Secondary Education   95% \\n● Blue Bells Hr. Sec. School, Maihar (M.P.)  2022 \\nClass XII: Madhya Pradesh Board of Secondary Education   85% \\n● Indian Institute of Information Technology Bhubaneswar  2023 -2027  \\n     BTech. In Electrical Engineering  \\n \\nSKILLS  AND  INTERESTS  \\n \\n \\nLanguages:  Python,  C++,  C, JavaScript  \\nWeb Technologies:  Html,  CSS,  JavaScript, Bootstrap,  Django,  MySQL, PostgreSQL  \\nLibraries:  GSAP, chart.js, NumPy, Pandas, Matplotlib, Seaborne, Scikit -learn, \\nTensorFlow  \\nAreas Of Interest: DSA,  AI/ML and Deep Learning,  Full stack Developer  \\nFamiliar Software's:  Vs Code,  Sublime, Git,  GitHub,  Figma, Azure  \\n \\nPROJECTS  \\n \\n● Depression -Sathi  \\n● Created a platform facilitating interaction between doctors and users for healing \\nthrough chat and chatbots.  \\n● GitHub Link: Code   Preview  \\n \\n \\n● Plog payout  \\n● Google Solution Challenge  \\n● Team Worked along with the Friend with having knowledge of AI/ML.  \\n● Technologies used:  HTML, CSS, JavaScript, Django, Python, TensorFlow, Py Torch\""
      ]
     },
     "execution_count": 143,
     "metadata": {},
     "output_type": "execute_result"
    }
   ],
   "source": [
    "data[0].page_content.strip()"
   ]
  },
  {
   "cell_type": "code",
   "execution_count": 144,
   "metadata": {},
   "outputs": [],
   "source": [
    "text_splitter = RecursiveCharacterTextSplitter(\n",
    "    chunk_size=1000,\n",
    "    chunk_overlap=200\n",
    ")"
   ]
  },
  {
   "cell_type": "code",
   "execution_count": 145,
   "metadata": {},
   "outputs": [],
   "source": [
    "text_chunks=text_splitter.split_documents(data)"
   ]
  },
  {
   "cell_type": "code",
   "execution_count": 146,
   "metadata": {},
   "outputs": [
    {
     "data": {
      "text/plain": [
       "Document(metadata={'source': 'pdfs/anurag_ML_WEB.pdf', 'page': 0}, page_content='Anurag Singh  \\nInternational Institute  of Information Technology Bhubaneswar,  Orrisa  - India  \\nPhn: +91 -9098691543      Email: b323009@iiit -bh.ac.in  GitHub  | LinkedIn  \\n  Portfolio: https://anurag.icu         Blogging: https://blogsingh.anurag.icu  \\n \\n \\nEDUCATION  \\n \\n \\n● Simran Public Hr. Sec. School, Maihar (M.P.)  2020 \\nClass X: Madhya Pradesh Board of Secondary Education   95% \\n● Blue Bells Hr. Sec. School, Maihar (M.P.)  2022 \\nClass XII: Madhya Pradesh Board of Secondary Education   85% \\n● Indian Institute of Information Technology Bhubaneswar  2023 -2027  \\n     BTech. In Electrical Engineering  \\n \\nSKILLS  AND  INTERESTS  \\n \\n \\nLanguages:  Python,  C++,  C, JavaScript  \\nWeb Technologies:  Html,  CSS,  JavaScript, Bootstrap,  Django,  MySQL, PostgreSQL  \\nLibraries:  GSAP, chart.js, NumPy, Pandas, Matplotlib, Seaborne, Scikit -learn, \\nTensorFlow  \\nAreas Of Interest: DSA,  AI/ML and Deep Learning,  Full stack Developer')"
      ]
     },
     "execution_count": 146,
     "metadata": {},
     "output_type": "execute_result"
    }
   ],
   "source": [
    "text_chunks[0]"
   ]
  },
  {
   "cell_type": "markdown",
   "metadata": {},
   "source": [
    "### Creating DB"
   ]
  },
  {
   "cell_type": "code",
   "execution_count": 147,
   "metadata": {},
   "outputs": [],
   "source": [
    "persist_directory=\"db\""
   ]
  },
  {
   "cell_type": "code",
   "execution_count": 148,
   "metadata": {},
   "outputs": [
    {
     "name": "stderr",
     "output_type": "stream",
     "text": [
      "I0000 00:00:1721714284.298501   13346 check_gcp_environment_no_op.cc:29] ALTS: Platforms other than Linux and Windows are not supported\n"
     ]
    }
   ],
   "source": [
    "embedding = GoogleGenerativeAIEmbeddings(model=\"models/embedding-001\")"
   ]
  },
  {
   "cell_type": "code",
   "execution_count": 149,
   "metadata": {},
   "outputs": [
    {
     "name": "stderr",
     "output_type": "stream",
     "text": [
      "I0000 00:00:1721714284.696903   15546 subchannel.cc:806] subchannel 0x1449b7790 {address=ipv6:%5B2404:6800:4002:820::200a%5D:443, args={grpc.client_channel_factory=0x10a168e40, grpc.default_authority=generativelanguage.googleapis.com:443, grpc.dns_enable_srv_queries=1, grpc.http2_scheme=https, grpc.internal.channel_credentials=0x147756ca0, grpc.internal.client_channel_call_destination=0x11073ba18, grpc.internal.event_engine=0x144977260, grpc.internal.security_connector=0x120cf8fe0, grpc.internal.subchannel_pool=0x10a1726a0, grpc.max_receive_message_length=-1, grpc.max_send_message_length=-1, grpc.primary_user_agent=grpc-python/1.65.1, grpc.resource_quota=0x1234dc750, grpc.server_uri=dns:///generativelanguage.googleapis.com:443}}: connect failed (UNKNOWN:connect: No route to host (65) {created_time:\"2024-07-23T11:28:04.696754+05:30\"}), backing off for 999 ms\n"
     ]
    }
   ],
   "source": [
    "vectordb=Chroma.from_documents(\n",
    "    documents=text_chunks,\n",
    "    embedding=embedding,\n",
    "    persist_directory=persist_directory\n",
    ")"
   ]
  },
  {
   "cell_type": "code",
   "execution_count": 150,
   "metadata": {},
   "outputs": [],
   "source": [
    "vectordb.persist()"
   ]
  },
  {
   "cell_type": "code",
   "execution_count": 151,
   "metadata": {},
   "outputs": [],
   "source": [
    "vectordb=None"
   ]
  },
  {
   "cell_type": "code",
   "execution_count": 152,
   "metadata": {},
   "outputs": [],
   "source": [
    "vectordb=Chroma(persist_directory=persist_directory,embedding_function=embedding)"
   ]
  },
  {
   "cell_type": "code",
   "execution_count": 153,
   "metadata": {},
   "outputs": [
    {
     "data": {
      "text/plain": [
       "<langchain_community.vectorstores.chroma.Chroma at 0x15077e0f0>"
      ]
     },
     "execution_count": 153,
     "metadata": {},
     "output_type": "execute_result"
    }
   ],
   "source": [
    "vectordb"
   ]
  },
  {
   "cell_type": "markdown",
   "metadata": {},
   "source": [
    "### getting the DB"
   ]
  },
  {
   "cell_type": "code",
   "execution_count": 154,
   "metadata": {},
   "outputs": [],
   "source": [
    "retriver=vectordb.as_retriever()"
   ]
  },
  {
   "cell_type": "code",
   "execution_count": 155,
   "metadata": {},
   "outputs": [],
   "source": [
    "docs=retriver.get_relevant_documents(\"Who Is anurag singh and where from he?\")"
   ]
  },
  {
   "cell_type": "code",
   "execution_count": 156,
   "metadata": {},
   "outputs": [
    {
     "data": {
      "text/plain": [
       "[Document(metadata={'page': 0, 'source': 'pdfs/anurag_ML_WEB.pdf'}, page_content='Anurag Singh  \\nInternational Institute  of Information Technology Bhubaneswar,  Orrisa  - India  \\nPhn: +91 -9098691543      Email: b323009@iiit -bh.ac.in  GitHub  | LinkedIn  \\n  Portfolio: https://anurag.icu         Blogging: https://blogsingh.anurag.icu  \\n \\n \\nEDUCATION  \\n \\n \\n● Simran Public Hr. Sec. School, Maihar (M.P.)  2020 \\nClass X: Madhya Pradesh Board of Secondary Education   95% \\n● Blue Bells Hr. Sec. School, Maihar (M.P.)  2022 \\nClass XII: Madhya Pradesh Board of Secondary Education   85% \\n● Indian Institute of Information Technology Bhubaneswar  2023 -2027  \\n     BTech. In Electrical Engineering  \\n \\nSKILLS  AND  INTERESTS  \\n \\n \\nLanguages:  Python,  C++,  C, JavaScript  \\nWeb Technologies:  Html,  CSS,  JavaScript, Bootstrap,  Django,  MySQL, PostgreSQL  \\nLibraries:  GSAP, chart.js, NumPy, Pandas, Matplotlib, Seaborne, Scikit -learn, \\nTensorFlow  \\nAreas Of Interest: DSA,  AI/ML and Deep Learning,  Full stack Developer'),\n",
       " Document(metadata={'page': 0, 'source': 'pdfs/anurag_ML_WEB.pdf'}, page_content='Anurag Singh  \\nInternational Institute  of Information Technology Bhubaneswar,  Orrisa  - India  \\nPhn: +91 -9098691543      Email: b323009@iiit -bh.ac.in  GitHub  | LinkedIn  \\n  Portfolio: https://anurag.icu         Blogging: https://blogsingh.anurag.icu  \\n \\n \\nEDUCATION  \\n \\n \\n● Simran Public Hr. Sec. School, Maihar (M.P.)  2020 \\nClass X: Madhya Pradesh Board of Secondary Education   95% \\n● Blue Bells Hr. Sec. School, Maihar (M.P.)  2022 \\nClass XII: Madhya Pradesh Board of Secondary Education   85% \\n● Indian Institute of Information Technology Bhubaneswar  2023 -2027  \\n     BTech. In Electrical Engineering  \\n \\nSKILLS  AND  INTERESTS  \\n \\n \\nLanguages:  Python,  C++,  C, JavaScript  \\nWeb Technologies:  Html,  CSS,  JavaScript, Bootstrap,  Django,  MySQL, PostgreSQL  \\nLibraries:  GSAP, chart.js, NumPy, Pandas, Matplotlib, Seaborne, Scikit -learn, \\nTensorFlow  \\nAreas Of Interest: DSA,  AI/ML and Deep Learning,  Full stack Developer'),\n",
       " Document(metadata={'page': 0, 'source': 'pdfs/anurag_ML_WEB.pdf'}, page_content='Anurag Singh  \\nInternational Institute  of Information Technology Bhubaneswar,  Orrisa  - India  \\nPhn: +91 -9098691543      Email: b323009@iiit -bh.ac.in  GitHub  | LinkedIn  \\n  Portfolio: https://anurag.icu         Blogging: https://blogsingh.anurag.icu  \\n \\n \\nEDUCATION  \\n \\n \\n● Simran Public Hr. Sec. School, Maihar (M.P.)  2020 \\nClass X: Madhya Pradesh Board of Secondary Education   95% \\n● Blue Bells Hr. Sec. School, Maihar (M.P.)  2022 \\nClass XII: Madhya Pradesh Board of Secondary Education   85% \\n● Indian Institute of Information Technology Bhubaneswar  2023 -2027  \\n     BTech. In Electrical Engineering  \\n \\nSKILLS  AND  INTERESTS  \\n \\n \\nLanguages:  Python,  C++,  C, JavaScript  \\nWeb Technologies:  Html,  CSS,  JavaScript, Bootstrap,  Django,  MySQL, PostgreSQL  \\nLibraries:  GSAP, chart.js, NumPy, Pandas, Matplotlib, Seaborne, Scikit -learn, \\nTensorFlow  \\nAreas Of Interest: DSA,  AI/ML and Deep Learning,  Full stack Developer'),\n",
       " Document(metadata={'page': 0, 'source': 'pdfs/anurag_ML_WEB.pdf'}, page_content='Anurag Singh  \\nInternational Institute  of Information Technology Bhubaneswar,  Orrisa  - India  \\nPhn: +91 -9098691543      Email: b323009@iiit -bh.ac.in  GitHub  | LinkedIn  \\n  Portfolio: https://anurag.icu         Blogging: https://blogsingh.anurag.icu  \\n \\n \\nEDUCATION  \\n \\n \\n● Simran Public Hr. Sec. School, Maihar (M.P.)  2020 \\nClass X: Madhya Pradesh Board of Secondary Education   95% \\n● Blue Bells Hr. Sec. School, Maihar (M.P.)  2022 \\nClass XII: Madhya Pradesh Board of Secondary Education   85% \\n● Indian Institute of Information Technology Bhubaneswar  2023 -2027  \\n     BTech. In Electrical Engineering  \\n \\nSKILLS  AND  INTERESTS  \\n \\n \\nLanguages:  Python,  C++,  C, JavaScript  \\nWeb Technologies:  Html,  CSS,  JavaScript, Bootstrap,  Django,  MySQL, PostgreSQL  \\nLibraries:  GSAP, chart.js, NumPy, Pandas, Matplotlib, Seaborne, Scikit -learn, \\nTensorFlow  \\nAreas Of Interest: DSA,  AI/ML and Deep Learning,  Full stack Developer')]"
      ]
     },
     "execution_count": 156,
     "metadata": {},
     "output_type": "execute_result"
    }
   ],
   "source": [
    "docs"
   ]
  },
  {
   "cell_type": "code",
   "execution_count": 157,
   "metadata": {},
   "outputs": [],
   "source": [
    "import os\n",
    "from dotenv import load_dotenv\n",
    "\n",
    "load_dotenv()\n",
    "google_gemini_api=os.getenv(\"GOOGLE_API_KEY\")"
   ]
  },
  {
   "cell_type": "code",
   "execution_count": 158,
   "metadata": {},
   "outputs": [
    {
     "name": "stderr",
     "output_type": "stream",
     "text": [
      "I0000 00:00:1721714287.497190   13346 check_gcp_environment_no_op.cc:29] ALTS: Platforms other than Linux and Windows are not supported\n",
      "I0000 00:00:1721714287.497672   13346 check_gcp_environment_no_op.cc:29] ALTS: Platforms other than Linux and Windows are not supported\n"
     ]
    }
   ],
   "source": [
    "llm_model=ChatGoogleGenerativeAI(model=\"gemini-1.5-pro\",google_api_key=google_gemini_api)"
   ]
  },
  {
   "cell_type": "code",
   "execution_count": 163,
   "metadata": {},
   "outputs": [],
   "source": [
    "system_prompt = (\n",
    "    \"You are an expert in question and answering. Given the following context, it is your job to provide a useful and concise answer. Make sure to ask a follow-up question in a dramatic and funny way at the end to make the interaction engaging and a bit humorous,funny and naughty, but only where it seems appropriate.\"\n",
    "    \"Use emojies\"\n",
    "    \"Context: {context}\"\n",
    ")"
   ]
  },
  {
   "cell_type": "code",
   "execution_count": 164,
   "metadata": {},
   "outputs": [],
   "source": [
    "from langchain.chains import create_retrieval_chain\n",
    "from langchain.chains.combine_documents import create_stuff_documents_chain\n",
    "from langchain_core.prompts import ChatPromptTemplate\n",
    "prompt = ChatPromptTemplate.from_messages(\n",
    "    [\n",
    "        (\"system\", system_prompt),\n",
    "        (\"human\", \"{input}\"),\n",
    "    ]\n",
    ")\n",
    "question_answer_chain = create_stuff_documents_chain(llm_model, prompt)\n",
    "chain = create_retrieval_chain(retriver, question_answer_chain)"
   ]
  },
  {
   "cell_type": "code",
   "execution_count": 165,
   "metadata": {},
   "outputs": [],
   "source": [
    "query=\"is anurag singh have any best project?\""
   ]
  },
  {
   "cell_type": "code",
   "execution_count": 166,
   "metadata": {},
   "outputs": [
    {
     "data": {
      "text/plain": [
       "{'input': 'is anurag singh have any best project?',\n",
       " 'context': [Document(metadata={'page': 0, 'source': 'pdfs/anurag_ML_WEB.pdf'}, page_content='Anurag Singh  \\nInternational Institute  of Information Technology Bhubaneswar,  Orrisa  - India  \\nPhn: +91 -9098691543      Email: b323009@iiit -bh.ac.in  GitHub  | LinkedIn  \\n  Portfolio: https://anurag.icu         Blogging: https://blogsingh.anurag.icu  \\n \\n \\nEDUCATION  \\n \\n \\n● Simran Public Hr. Sec. School, Maihar (M.P.)  2020 \\nClass X: Madhya Pradesh Board of Secondary Education   95% \\n● Blue Bells Hr. Sec. School, Maihar (M.P.)  2022 \\nClass XII: Madhya Pradesh Board of Secondary Education   85% \\n● Indian Institute of Information Technology Bhubaneswar  2023 -2027  \\n     BTech. In Electrical Engineering  \\n \\nSKILLS  AND  INTERESTS  \\n \\n \\nLanguages:  Python,  C++,  C, JavaScript  \\nWeb Technologies:  Html,  CSS,  JavaScript, Bootstrap,  Django,  MySQL, PostgreSQL  \\nLibraries:  GSAP, chart.js, NumPy, Pandas, Matplotlib, Seaborne, Scikit -learn, \\nTensorFlow  \\nAreas Of Interest: DSA,  AI/ML and Deep Learning,  Full stack Developer'),\n",
       "  Document(metadata={'page': 0, 'source': 'pdfs/anurag_ML_WEB.pdf'}, page_content='Anurag Singh  \\nInternational Institute  of Information Technology Bhubaneswar,  Orrisa  - India  \\nPhn: +91 -9098691543      Email: b323009@iiit -bh.ac.in  GitHub  | LinkedIn  \\n  Portfolio: https://anurag.icu         Blogging: https://blogsingh.anurag.icu  \\n \\n \\nEDUCATION  \\n \\n \\n● Simran Public Hr. Sec. School, Maihar (M.P.)  2020 \\nClass X: Madhya Pradesh Board of Secondary Education   95% \\n● Blue Bells Hr. Sec. School, Maihar (M.P.)  2022 \\nClass XII: Madhya Pradesh Board of Secondary Education   85% \\n● Indian Institute of Information Technology Bhubaneswar  2023 -2027  \\n     BTech. In Electrical Engineering  \\n \\nSKILLS  AND  INTERESTS  \\n \\n \\nLanguages:  Python,  C++,  C, JavaScript  \\nWeb Technologies:  Html,  CSS,  JavaScript, Bootstrap,  Django,  MySQL, PostgreSQL  \\nLibraries:  GSAP, chart.js, NumPy, Pandas, Matplotlib, Seaborne, Scikit -learn, \\nTensorFlow  \\nAreas Of Interest: DSA,  AI/ML and Deep Learning,  Full stack Developer'),\n",
       "  Document(metadata={'page': 0, 'source': 'pdfs/anurag_ML_WEB.pdf'}, page_content='Anurag Singh  \\nInternational Institute  of Information Technology Bhubaneswar,  Orrisa  - India  \\nPhn: +91 -9098691543      Email: b323009@iiit -bh.ac.in  GitHub  | LinkedIn  \\n  Portfolio: https://anurag.icu         Blogging: https://blogsingh.anurag.icu  \\n \\n \\nEDUCATION  \\n \\n \\n● Simran Public Hr. Sec. School, Maihar (M.P.)  2020 \\nClass X: Madhya Pradesh Board of Secondary Education   95% \\n● Blue Bells Hr. Sec. School, Maihar (M.P.)  2022 \\nClass XII: Madhya Pradesh Board of Secondary Education   85% \\n● Indian Institute of Information Technology Bhubaneswar  2023 -2027  \\n     BTech. In Electrical Engineering  \\n \\nSKILLS  AND  INTERESTS  \\n \\n \\nLanguages:  Python,  C++,  C, JavaScript  \\nWeb Technologies:  Html,  CSS,  JavaScript, Bootstrap,  Django,  MySQL, PostgreSQL  \\nLibraries:  GSAP, chart.js, NumPy, Pandas, Matplotlib, Seaborne, Scikit -learn, \\nTensorFlow  \\nAreas Of Interest: DSA,  AI/ML and Deep Learning,  Full stack Developer'),\n",
       "  Document(metadata={'page': 0, 'source': 'pdfs/anurag_ML_WEB.pdf'}, page_content='Anurag Singh  \\nInternational Institute  of Information Technology Bhubaneswar,  Orrisa  - India  \\nPhn: +91 -9098691543      Email: b323009@iiit -bh.ac.in  GitHub  | LinkedIn  \\n  Portfolio: https://anurag.icu         Blogging: https://blogsingh.anurag.icu  \\n \\n \\nEDUCATION  \\n \\n \\n● Simran Public Hr. Sec. School, Maihar (M.P.)  2020 \\nClass X: Madhya Pradesh Board of Secondary Education   95% \\n● Blue Bells Hr. Sec. School, Maihar (M.P.)  2022 \\nClass XII: Madhya Pradesh Board of Secondary Education   85% \\n● Indian Institute of Information Technology Bhubaneswar  2023 -2027  \\n     BTech. In Electrical Engineering  \\n \\nSKILLS  AND  INTERESTS  \\n \\n \\nLanguages:  Python,  C++,  C, JavaScript  \\nWeb Technologies:  Html,  CSS,  JavaScript, Bootstrap,  Django,  MySQL, PostgreSQL  \\nLibraries:  GSAP, chart.js, NumPy, Pandas, Matplotlib, Seaborne, Scikit -learn, \\nTensorFlow  \\nAreas Of Interest: DSA,  AI/ML and Deep Learning,  Full stack Developer')],\n",
       " 'answer': \"This information doesn't state what projects Anurag Singh has worked on.  However, we can see he's skilled in many programming languages and interested in AI/ML and Full Stack Development. \\n\\n🤔  The real question is... will his projects be as electrifying as his BTech in Electrical Engineering?  ⚡️😜 \\n\"}"
      ]
     },
     "execution_count": 166,
     "metadata": {},
     "output_type": "execute_result"
    }
   ],
   "source": [
    "chain.invoke({\"input\": query})"
   ]
  }
 ],
 "metadata": {
  "kernelspec": {
   "display_name": "analyzerenv",
   "language": "python",
   "name": "python3"
  },
  "language_info": {
   "codemirror_mode": {
    "name": "ipython",
    "version": 3
   },
   "file_extension": ".py",
   "mimetype": "text/x-python",
   "name": "python",
   "nbconvert_exporter": "python",
   "pygments_lexer": "ipython3",
   "version": "3.12.4"
  }
 },
 "nbformat": 4,
 "nbformat_minor": 2
}
