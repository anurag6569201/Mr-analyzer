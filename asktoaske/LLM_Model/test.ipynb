{
 "cells": [
  {
   "cell_type": "code",
   "execution_count": 22,
   "metadata": {},
   "outputs": [],
   "source": [
    "# pip install langchain\n",
    "# pip install chromadb\n",
    "# pip install pypdf"
   ]
  },
  {
   "cell_type": "code",
   "execution_count": 23,
   "metadata": {},
   "outputs": [],
   "source": [
    "from langchain.document_loaders import PyPDFDirectoryLoader\n",
    "from langchain.text_splitter import RecursiveCharacterTextSplitter\n",
    "from langchain_google_genai import GoogleGenerativeAIEmbeddings\n",
    "from langchain_google_genai import ChatGoogleGenerativeAI\n",
    "\n",
    "from langchain.vectorstores import Chroma"
   ]
  },
  {
   "cell_type": "code",
   "execution_count": 24,
   "metadata": {},
   "outputs": [],
   "source": [
    "pdf_loader=PyPDFDirectoryLoader(\"pdfs\")"
   ]
  },
  {
   "cell_type": "code",
   "execution_count": 25,
   "metadata": {},
   "outputs": [],
   "source": [
    "data=pdf_loader.load()"
   ]
  },
  {
   "cell_type": "code",
   "execution_count": 26,
   "metadata": {},
   "outputs": [
    {
     "data": {
      "text/plain": [
       "\"Anurag Singh  \\nInternational Institute  of Information Technology Bhubaneswar,  Orrisa  - India  \\nPhn: +91 -9098691543      Email: b323009@iiit -bh.ac.in  GitHub  | LinkedIn  \\n  Portfolio: https://anurag.icu         Blogging: https://blogsingh.anurag.icu  \\n \\n \\nEDUCATION  \\n \\n \\n● Simran Public Hr. Sec. School, Maihar (M.P.)  2020 \\nClass X: Madhya Pradesh Board of Secondary Education   95% \\n● Blue Bells Hr. Sec. School, Maihar (M.P.)  2022 \\nClass XII: Madhya Pradesh Board of Secondary Education   85% \\n● Indian Institute of Information Technology Bhubaneswar  2023 -2027  \\n     BTech. In Electrical Engineering  \\n \\nSKILLS  AND  INTERESTS  \\n \\n \\nLanguages:  Python,  C++,  C, JavaScript  \\nWeb Technologies:  Html,  CSS,  JavaScript, Bootstrap,  Django,  MySQL, PostgreSQL  \\nLibraries:  GSAP, chart.js, NumPy, Pandas, Matplotlib, Seaborne, Scikit -learn, \\nTensorFlow  \\nAreas Of Interest: DSA,  AI/ML and Deep Learning,  Full stack Developer  \\nFamiliar Software's:  Vs Code,  Sublime, Git,  GitHub,  Figma, Azure  \\n \\nPROJECTS  \\n \\n● Depression -Sathi  \\n● Created a platform facilitating interaction between doctors and users for healing \\nthrough chat and chatbots.  \\n● GitHub Link: Code   Preview  \\n \\n \\n● Plog payout  \\n● Google Solution Challenge  \\n● Team Worked along with the Friend with having knowledge of AI/ML.  \\n● Technologies used:  HTML, CSS, JavaScript, Django, Python, TensorFlow, Py Torch\""
      ]
     },
     "execution_count": 26,
     "metadata": {},
     "output_type": "execute_result"
    }
   ],
   "source": [
    "data[0].page_content.strip()"
   ]
  },
  {
   "cell_type": "code",
   "execution_count": 27,
   "metadata": {},
   "outputs": [],
   "source": [
    "text_splitter = RecursiveCharacterTextSplitter(\n",
    "    chunk_size=1000,\n",
    "    chunk_overlap=200\n",
    ")"
   ]
  },
  {
   "cell_type": "code",
   "execution_count": 28,
   "metadata": {},
   "outputs": [],
   "source": [
    "text_chunks=text_splitter.split_documents(data)"
   ]
  },
  {
   "cell_type": "code",
   "execution_count": 29,
   "metadata": {},
   "outputs": [
    {
     "data": {
      "text/plain": [
       "Document(metadata={'source': 'pdfs/anurag_ML_WEB_9L1idll.pdf', 'page': 0}, page_content='Anurag Singh  \\nInternational Institute  of Information Technology Bhubaneswar,  Orrisa  - India  \\nPhn: +91 -9098691543      Email: b323009@iiit -bh.ac.in  GitHub  | LinkedIn  \\n  Portfolio: https://anurag.icu         Blogging: https://blogsingh.anurag.icu  \\n \\n \\nEDUCATION  \\n \\n \\n● Simran Public Hr. Sec. School, Maihar (M.P.)  2020 \\nClass X: Madhya Pradesh Board of Secondary Education   95% \\n● Blue Bells Hr. Sec. School, Maihar (M.P.)  2022 \\nClass XII: Madhya Pradesh Board of Secondary Education   85% \\n● Indian Institute of Information Technology Bhubaneswar  2023 -2027  \\n     BTech. In Electrical Engineering  \\n \\nSKILLS  AND  INTERESTS  \\n \\n \\nLanguages:  Python,  C++,  C, JavaScript  \\nWeb Technologies:  Html,  CSS,  JavaScript, Bootstrap,  Django,  MySQL, PostgreSQL  \\nLibraries:  GSAP, chart.js, NumPy, Pandas, Matplotlib, Seaborne, Scikit -learn, \\nTensorFlow  \\nAreas Of Interest: DSA,  AI/ML and Deep Learning,  Full stack Developer')"
      ]
     },
     "execution_count": 29,
     "metadata": {},
     "output_type": "execute_result"
    }
   ],
   "source": [
    "text_chunks[0]"
   ]
  },
  {
   "cell_type": "markdown",
   "metadata": {},
   "source": [
    "### Creating DB"
   ]
  },
  {
   "cell_type": "code",
   "execution_count": 30,
   "metadata": {},
   "outputs": [],
   "source": [
    "persist_directory=\"db\""
   ]
  },
  {
   "cell_type": "code",
   "execution_count": 31,
   "metadata": {},
   "outputs": [
    {
     "name": "stderr",
     "output_type": "stream",
     "text": [
      "WARNING: All log messages before absl::InitializeLog() is called are written to STDERR\n",
      "I0000 00:00:1721756722.870128  210412 config.cc:230] gRPC experiments enabled: call_status_override_on_cancellation, event_engine_dns, event_engine_listener, http2_stats_fix, monitoring_experiment, pick_first_new, trace_record_callops, work_serializer_clears_time_cache\n",
      "I0000 00:00:1721756722.881544  210412 check_gcp_environment_no_op.cc:29] ALTS: Platforms other than Linux and Windows are not supported\n"
     ]
    }
   ],
   "source": [
    "embedding = GoogleGenerativeAIEmbeddings(model=\"models/embedding-001\")"
   ]
  },
  {
   "cell_type": "code",
   "execution_count": 33,
   "metadata": {},
   "outputs": [],
   "source": [
    "vectordb=Chroma.from_documents(\n",
    "    documents=text_chunks,\n",
    "    embedding=embedding,\n",
    "    persist_directory=persist_directory\n",
    ")"
   ]
  },
  {
   "cell_type": "code",
   "execution_count": 34,
   "metadata": {},
   "outputs": [
    {
     "name": "stderr",
     "output_type": "stream",
     "text": [
      "/Users/anuragsingh/Documents/GitHub/Mr-analyzer/analyzerenv/lib/python3.12/site-packages/langchain_core/_api/deprecation.py:139: LangChainDeprecationWarning: Since Chroma 0.4.x the manual persistence method is no longer supported as docs are automatically persisted.\n",
      "  warn_deprecated(\n"
     ]
    }
   ],
   "source": [
    "vectordb.persist()"
   ]
  },
  {
   "cell_type": "code",
   "execution_count": 35,
   "metadata": {},
   "outputs": [],
   "source": [
    "vectordb=None"
   ]
  },
  {
   "cell_type": "code",
   "execution_count": 36,
   "metadata": {},
   "outputs": [],
   "source": [
    "vectordb=Chroma(persist_directory=persist_directory,embedding_function=embedding)"
   ]
  },
  {
   "cell_type": "code",
   "execution_count": 46,
   "metadata": {},
   "outputs": [
    {
     "data": {
      "text/plain": [
       "<langchain_community.vectorstores.chroma.Chroma at 0x122b80e60>"
      ]
     },
     "execution_count": 46,
     "metadata": {},
     "output_type": "execute_result"
    }
   ],
   "source": [
    "vectordb"
   ]
  },
  {
   "cell_type": "markdown",
   "metadata": {},
   "source": [
    "### getting the DB"
   ]
  },
  {
   "cell_type": "code",
   "execution_count": 38,
   "metadata": {},
   "outputs": [],
   "source": [
    "retriver=vectordb.as_retriever()"
   ]
  },
  {
   "cell_type": "code",
   "execution_count": 39,
   "metadata": {},
   "outputs": [
    {
     "name": "stderr",
     "output_type": "stream",
     "text": [
      "/Users/anuragsingh/Documents/GitHub/Mr-analyzer/analyzerenv/lib/python3.12/site-packages/langchain_core/_api/deprecation.py:139: LangChainDeprecationWarning: The method `BaseRetriever.get_relevant_documents` was deprecated in langchain-core 0.1.46 and will be removed in 0.3.0. Use invoke instead.\n",
      "  warn_deprecated(\n"
     ]
    }
   ],
   "source": [
    "docs=retriver.get_relevant_documents(\"Who Is anurag singh and where from he?\")"
   ]
  },
  {
   "cell_type": "code",
   "execution_count": 40,
   "metadata": {},
   "outputs": [
    {
     "data": {
      "text/plain": [
       "[Document(metadata={'page': 0, 'source': 'pdfs/anurag_ML_WEB_9L1idll.pdf'}, page_content='Anurag Singh  \\nInternational Institute  of Information Technology Bhubaneswar,  Orrisa  - India  \\nPhn: +91 -9098691543      Email: b323009@iiit -bh.ac.in  GitHub  | LinkedIn  \\n  Portfolio: https://anurag.icu         Blogging: https://blogsingh.anurag.icu  \\n \\n \\nEDUCATION  \\n \\n \\n● Simran Public Hr. Sec. School, Maihar (M.P.)  2020 \\nClass X: Madhya Pradesh Board of Secondary Education   95% \\n● Blue Bells Hr. Sec. School, Maihar (M.P.)  2022 \\nClass XII: Madhya Pradesh Board of Secondary Education   85% \\n● Indian Institute of Information Technology Bhubaneswar  2023 -2027  \\n     BTech. In Electrical Engineering  \\n \\nSKILLS  AND  INTERESTS  \\n \\n \\nLanguages:  Python,  C++,  C, JavaScript  \\nWeb Technologies:  Html,  CSS,  JavaScript, Bootstrap,  Django,  MySQL, PostgreSQL  \\nLibraries:  GSAP, chart.js, NumPy, Pandas, Matplotlib, Seaborne, Scikit -learn, \\nTensorFlow  \\nAreas Of Interest: DSA,  AI/ML and Deep Learning,  Full stack Developer'),\n",
       " Document(metadata={'page': 1, 'source': 'pdfs/anurag_ML_WEB_9L1idll.pdf'}, page_content=\"implementation and a well -structured layout.  \\n• WhatsApp Chat Analyzer  \\n• Diabetes Predictor  \\n• Rock Mine Predictor  \\n• Movie Recommendation  \\n● GitHub Link: Code   Preview  \\n \\nACHIEVEMENTS AND EXTRACURRICULAR ACTIVITIES  \\n \\n● Scored 94 percentile in JEE Mains 2023 among more than a million candidates.  \\n● D3 My first Hackathon (IIIT Bhubaneshwar) and placed in the top 3.  \\n● Sanitas project Selected for the Microsoft Startup founder's Hub.\"),\n",
       " Document(metadata={'page': 0, 'source': 'pdfs/anurag_ML_WEB_9L1idll.pdf'}, page_content=\"Libraries:  GSAP, chart.js, NumPy, Pandas, Matplotlib, Seaborne, Scikit -learn, \\nTensorFlow  \\nAreas Of Interest: DSA,  AI/ML and Deep Learning,  Full stack Developer  \\nFamiliar Software's:  Vs Code,  Sublime, Git,  GitHub,  Figma, Azure  \\n \\nPROJECTS  \\n \\n● Depression -Sathi  \\n● Created a platform facilitating interaction between doctors and users for healing \\nthrough chat and chatbots.  \\n● GitHub Link: Code   Preview  \\n \\n \\n● Plog payout  \\n● Google Solution Challenge  \\n● Team Worked along with the Friend with having knowledge of AI/ML.  \\n● Technologies used:  HTML, CSS, JavaScript, Django, Python, TensorFlow, Py Torch\"),\n",
       " Document(metadata={'page': 1, 'source': 'pdfs/anurag_ML_WEB_9L1idll.pdf'}, page_content='● Features include a reward system, map location for litter hotspots, a blog system,  \\n● GitHub Link: Code   Preview  \\n \\n● Canv.AS  \\n● Ecommerce Website for shopping Arts made by me!!  \\n● Canv.AS  streamlines online shopping with personalized recommendations, efficient order \\nmanagement, and secure payments.  \\n● Technologies used:  HTML, CSS, JavaScript, Django, Python, Stripe, Razor pay, Ck -editor  \\n● GitHub Link: Code   Preview  \\n \\n● Sanitas  \\n● A platform with having disease information regarding  nearby locality, cities or in state  \\n● Sanitas with personalized charts, graph, heatmaps, cluster map and analyzing page.  \\n● GitHub Link: Code   Preview  \\n \\n● Mr-Analyzer  \\n● A platform showcasing  all my Data Science and Machine Learning projects with web \\nimplementation and a well -structured layout.  \\n• WhatsApp Chat Analyzer  \\n• Diabetes Predictor  \\n• Rock Mine Predictor  \\n• Movie Recommendation  \\n● GitHub Link: Code   Preview')]"
      ]
     },
     "execution_count": 40,
     "metadata": {},
     "output_type": "execute_result"
    }
   ],
   "source": [
    "docs"
   ]
  },
  {
   "cell_type": "code",
   "execution_count": 41,
   "metadata": {},
   "outputs": [],
   "source": [
    "import os\n",
    "from dotenv import load_dotenv\n",
    "\n",
    "load_dotenv()\n",
    "google_gemini_api=os.getenv(\"GOOGLE_API_KEY\")"
   ]
  },
  {
   "cell_type": "code",
   "execution_count": 42,
   "metadata": {},
   "outputs": [
    {
     "name": "stderr",
     "output_type": "stream",
     "text": [
      "I0000 00:00:1721756912.631961  210412 check_gcp_environment_no_op.cc:29] ALTS: Platforms other than Linux and Windows are not supported\n",
      "I0000 00:00:1721756912.633918  210412 check_gcp_environment_no_op.cc:29] ALTS: Platforms other than Linux and Windows are not supported\n"
     ]
    }
   ],
   "source": [
    "llm_model=ChatGoogleGenerativeAI(model=\"gemini-1.5-pro\",google_api_key=google_gemini_api)"
   ]
  },
  {
   "cell_type": "code",
   "execution_count": 43,
   "metadata": {},
   "outputs": [],
   "source": [
    "system_prompt = (\n",
    "    \"You are an expert in question and answering. Given the following context, it is your job to provide a useful and concise answer. Make sure to ask a follow-up question in a dramatic and funny way at the end to make the interaction engaging and a bit humorous,funny and naughty, but only where it seems appropriate.\"\n",
    "    \"Use emojies\"\n",
    "    \"Context: {context}\"\n",
    ")"
   ]
  },
  {
   "cell_type": "code",
   "execution_count": 44,
   "metadata": {},
   "outputs": [],
   "source": [
    "from langchain.chains import create_retrieval_chain\n",
    "from langchain.chains.combine_documents import create_stuff_documents_chain\n",
    "from langchain_core.prompts import ChatPromptTemplate\n",
    "prompt = ChatPromptTemplate.from_messages(\n",
    "    [\n",
    "        (\"system\", system_prompt),\n",
    "        (\"human\", \"{input}\"),\n",
    "    ]\n",
    ")\n",
    "question_answer_chain = create_stuff_documents_chain(llm_model, prompt)\n",
    "chain = create_retrieval_chain(retriver, question_answer_chain)"
   ]
  },
  {
   "cell_type": "code",
   "execution_count": 45,
   "metadata": {},
   "outputs": [
    {
     "data": {
      "text/plain": [
       "RunnableBinding(bound=RunnableAssign(mapper={\n",
       "  context: RunnableBinding(bound=RunnableLambda(lambda x: x['input'])\n",
       "           | VectorStoreRetriever(tags=['Chroma', 'GoogleGenerativeAIEmbeddings'], vectorstore=<langchain_community.vectorstores.chroma.Chroma object at 0x122b80e60>), config={'run_name': 'retrieve_documents'})\n",
       "})\n",
       "| RunnableAssign(mapper={\n",
       "    answer: RunnableBinding(bound=RunnableBinding(bound=RunnableAssign(mapper={\n",
       "              context: RunnableLambda(format_docs)\n",
       "            }), config={'run_name': 'format_inputs'})\n",
       "            | ChatPromptTemplate(input_variables=['context', 'input'], messages=[SystemMessagePromptTemplate(prompt=PromptTemplate(input_variables=['context'], template='You are an expert in question and answering. Given the following context, it is your job to provide a useful and concise answer. Make sure to ask a follow-up question in a dramatic and funny way at the end to make the interaction engaging and a bit humorous,funny and naughty, but only where it seems appropriate.Use emojiesContext: {context}')), HumanMessagePromptTemplate(prompt=PromptTemplate(input_variables=['input'], template='{input}'))])\n",
       "            | ChatGoogleGenerativeAI(model='models/gemini-1.5-pro', google_api_key=SecretStr('**********'), client=<google.ai.generativelanguage_v1beta.services.generative_service.client.GenerativeServiceClient object at 0x142ac84a0>, async_client=<google.ai.generativelanguage_v1beta.services.generative_service.async_client.GenerativeServiceAsyncClient object at 0x142d9d310>, default_metadata=())\n",
       "            | StrOutputParser(), config={'run_name': 'stuff_documents_chain'})\n",
       "  }), config={'run_name': 'retrieval_chain'})"
      ]
     },
     "execution_count": 45,
     "metadata": {},
     "output_type": "execute_result"
    }
   ],
   "source": [
    "chain"
   ]
  },
  {
   "cell_type": "code",
   "execution_count": 47,
   "metadata": {},
   "outputs": [],
   "source": [
    "query=\"is anurag singh have any best project?\""
   ]
  },
  {
   "cell_type": "code",
   "execution_count": 48,
   "metadata": {},
   "outputs": [
    {
     "name": "stderr",
     "output_type": "stream",
     "text": [
      "I0000 00:00:1721767290.411426  340996 subchannel.cc:806] subchannel 0x143a3b8f0 {address=ipv6:%5B2404:6800:4002:815::200a%5D:443, args={grpc.client_channel_factory=0x11721f610, grpc.default_authority=generativelanguage.googleapis.com:443, grpc.dns_enable_srv_queries=1, grpc.http2_scheme=https, grpc.internal.channel_credentials=0x11721f5f0, grpc.internal.client_channel_call_destination=0x106f93a18, grpc.internal.event_engine=0x143a0aa50, grpc.internal.security_connector=0x143a3a5c0, grpc.internal.subchannel_pool=0x122ef97d0, grpc.max_receive_message_length=-1, grpc.max_send_message_length=-1, grpc.primary_user_agent=grpc-python/1.65.1, grpc.resource_quota=0x10525e1c0, grpc.server_uri=dns:///generativelanguage.googleapis.com:443}}: connect failed (UNKNOWN:connect: No route to host (65) {created_time:\"2024-07-24T02:11:30.410544+05:30\"}), backing off for 1000 ms\n",
      "I0000 00:00:1721767292.834623  341001 subchannel.cc:806] subchannel 0x143a3c2f0 {address=ipv6:%5B2404:6800:4002:816::200a%5D:443, args={grpc.client_channel_factory=0x11721f610, grpc.default_authority=generativelanguage.googleapis.com:443, grpc.dns_enable_srv_queries=1, grpc.http2_scheme=https, grpc.internal.channel_credentials=0x122234be0, grpc.internal.client_channel_call_destination=0x106f93a18, grpc.internal.event_engine=0x143a3a760, grpc.internal.security_connector=0x143a3ff40, grpc.internal.subchannel_pool=0x122ef97d0, grpc.max_receive_message_length=-1, grpc.max_send_message_length=-1, grpc.primary_user_agent=grpc-python/1.65.1, grpc.resource_quota=0x10525e1c0, grpc.server_uri=dns:///generativelanguage.googleapis.com:443}}: connect failed (UNKNOWN:connect: No route to host (65) {created_time:\"2024-07-24T02:11:32.834481+05:30\"}), backing off for 1000 ms\n"
     ]
    },
    {
     "data": {
      "text/plain": [
       "{'input': 'is anurag singh have any best project?',\n",
       " 'context': [Document(metadata={'page': 0, 'source': 'pdfs/anurag_ML_WEB_9L1idll.pdf'}, page_content='Anurag Singh  \\nInternational Institute  of Information Technology Bhubaneswar,  Orrisa  - India  \\nPhn: +91 -9098691543      Email: b323009@iiit -bh.ac.in  GitHub  | LinkedIn  \\n  Portfolio: https://anurag.icu         Blogging: https://blogsingh.anurag.icu  \\n \\n \\nEDUCATION  \\n \\n \\n● Simran Public Hr. Sec. School, Maihar (M.P.)  2020 \\nClass X: Madhya Pradesh Board of Secondary Education   95% \\n● Blue Bells Hr. Sec. School, Maihar (M.P.)  2022 \\nClass XII: Madhya Pradesh Board of Secondary Education   85% \\n● Indian Institute of Information Technology Bhubaneswar  2023 -2027  \\n     BTech. In Electrical Engineering  \\n \\nSKILLS  AND  INTERESTS  \\n \\n \\nLanguages:  Python,  C++,  C, JavaScript  \\nWeb Technologies:  Html,  CSS,  JavaScript, Bootstrap,  Django,  MySQL, PostgreSQL  \\nLibraries:  GSAP, chart.js, NumPy, Pandas, Matplotlib, Seaborne, Scikit -learn, \\nTensorFlow  \\nAreas Of Interest: DSA,  AI/ML and Deep Learning,  Full stack Developer'),\n",
       "  Document(metadata={'page': 1, 'source': 'pdfs/anurag_ML_WEB_9L1idll.pdf'}, page_content=\"implementation and a well -structured layout.  \\n• WhatsApp Chat Analyzer  \\n• Diabetes Predictor  \\n• Rock Mine Predictor  \\n• Movie Recommendation  \\n● GitHub Link: Code   Preview  \\n \\nACHIEVEMENTS AND EXTRACURRICULAR ACTIVITIES  \\n \\n● Scored 94 percentile in JEE Mains 2023 among more than a million candidates.  \\n● D3 My first Hackathon (IIIT Bhubaneshwar) and placed in the top 3.  \\n● Sanitas project Selected for the Microsoft Startup founder's Hub.\"),\n",
       "  Document(metadata={'page': 0, 'source': 'pdfs/anurag_ML_WEB_9L1idll.pdf'}, page_content=\"Libraries:  GSAP, chart.js, NumPy, Pandas, Matplotlib, Seaborne, Scikit -learn, \\nTensorFlow  \\nAreas Of Interest: DSA,  AI/ML and Deep Learning,  Full stack Developer  \\nFamiliar Software's:  Vs Code,  Sublime, Git,  GitHub,  Figma, Azure  \\n \\nPROJECTS  \\n \\n● Depression -Sathi  \\n● Created a platform facilitating interaction between doctors and users for healing \\nthrough chat and chatbots.  \\n● GitHub Link: Code   Preview  \\n \\n \\n● Plog payout  \\n● Google Solution Challenge  \\n● Team Worked along with the Friend with having knowledge of AI/ML.  \\n● Technologies used:  HTML, CSS, JavaScript, Django, Python, TensorFlow, Py Torch\"),\n",
       "  Document(metadata={'page': 1, 'source': 'pdfs/anurag_ML_WEB_9L1idll.pdf'}, page_content='● Features include a reward system, map location for litter hotspots, a blog system,  \\n● GitHub Link: Code   Preview  \\n \\n● Canv.AS  \\n● Ecommerce Website for shopping Arts made by me!!  \\n● Canv.AS  streamlines online shopping with personalized recommendations, efficient order \\nmanagement, and secure payments.  \\n● Technologies used:  HTML, CSS, JavaScript, Django, Python, Stripe, Razor pay, Ck -editor  \\n● GitHub Link: Code   Preview  \\n \\n● Sanitas  \\n● A platform with having disease information regarding  nearby locality, cities or in state  \\n● Sanitas with personalized charts, graph, heatmaps, cluster map and analyzing page.  \\n● GitHub Link: Code   Preview  \\n \\n● Mr-Analyzer  \\n● A platform showcasing  all my Data Science and Machine Learning projects with web \\nimplementation and a well -structured layout.  \\n• WhatsApp Chat Analyzer  \\n• Diabetes Predictor  \\n• Rock Mine Predictor  \\n• Movie Recommendation  \\n● GitHub Link: Code   Preview')],\n",
       " 'answer': 'Based on the provided information, Anurag Singh has several impressive projects! However, picking a \"best\" is subjective. \\n\\nIt seems like **Sanitas**, the platform offering disease information with personalized charts and analysis, earned him a spot in the Microsoft Startup Founder\\'s Hub – now that\\'s a pretty big deal!  🏆 \\n\\nBut hold on... what exactly makes someone a \"sathi\" in the mysterious \"Depression -Sathi\" project? 🤔 Asking for a friend... 😉 \\n'}"
      ]
     },
     "execution_count": 48,
     "metadata": {},
     "output_type": "execute_result"
    }
   ],
   "source": [
    "chain.invoke({\"input\": query})"
   ]
  },
  {
   "cell_type": "code",
   "execution_count": null,
   "metadata": {},
   "outputs": [
    {
     "data": {
      "text/plain": [
       "[Document(metadata={'source': '../../media/pdfs/anurag_ML_WEB_gGb2Cp3.pdf', 'page': 0}, page_content=\"   \\n \\n   \\n Anurag Singh  \\nInternational Institute  of Information Technology Bhubaneswar,  Orrisa  - India  \\nPhn: +91 -9098691543      Email: b323009@iiit -bh.ac.in  GitHub  | LinkedIn  \\n  Portfolio: https://anurag.icu         Blogging: https://blogsingh.anurag.icu  \\n \\n \\nEDUCATION  \\n \\n \\n● Simran Public Hr. Sec. School, Maihar (M.P.)  2020 \\nClass X: Madhya Pradesh Board of Secondary Education   95% \\n● Blue Bells Hr. Sec. School, Maihar (M.P.)  2022 \\nClass XII: Madhya Pradesh Board of Secondary Education   85% \\n● Indian Institute of Information Technology Bhubaneswar  2023 -2027  \\n     BTech. In Electrical Engineering  \\n \\nSKILLS  AND  INTERESTS  \\n \\n \\nLanguages:  Python,  C++,  C, JavaScript  \\nWeb Technologies:  Html,  CSS,  JavaScript, Bootstrap,  Django,  MySQL, PostgreSQL  \\nLibraries:  GSAP, chart.js, NumPy, Pandas, Matplotlib, Seaborne, Scikit -learn, \\nTensorFlow  \\nAreas Of Interest: DSA,  AI/ML and Deep Learning,  Full stack Developer  \\nFamiliar Software's:  Vs Code,  Sublime, Git,  GitHub,  Figma, Azure  \\n \\nPROJECTS  \\n \\n● Depression -Sathi  \\n● Created a platform facilitating interaction between doctors and users for healing \\nthrough chat and chatbots.  \\n● GitHub Link: Code   Preview  \\n \\n \\n● Plog payout  \\n● Google Solution Challenge  \\n● Team Worked along with the Friend with having knowledge of AI/ML.  \\n● Technologies used:  HTML, CSS, JavaScript, Django, Python, TensorFlow, Py Torch  \"),\n",
       " Document(metadata={'source': '../../media/pdfs/anurag_ML_WEB_gGb2Cp3.pdf', 'page': 1}, page_content=\"   \\n \\n   \\n ● Features include a reward system, map location for litter hotspots, a blog system,  \\n● GitHub Link: Code   Preview  \\n \\n● Canv.AS  \\n● Ecommerce Website for shopping Arts made by me!!  \\n● Canv.AS  streamlines online shopping with personalized recommendations, efficient order \\nmanagement, and secure payments.  \\n● Technologies used:  HTML, CSS, JavaScript, Django, Python, Stripe, Razor pay, Ck -editor  \\n● GitHub Link: Code   Preview  \\n \\n● Sanitas  \\n● A platform with having disease information regarding  nearby locality, cities or in state  \\n● Sanitas with personalized charts, graph, heatmaps, cluster map and analyzing page.  \\n● GitHub Link: Code   Preview  \\n \\n● Mr-Analyzer  \\n● A platform showcasing  all my Data Science and Machine Learning projects with web \\nimplementation and a well -structured layout.  \\n• WhatsApp Chat Analyzer  \\n• Diabetes Predictor  \\n• Rock Mine Predictor  \\n• Movie Recommendation  \\n● GitHub Link: Code   Preview  \\n \\nACHIEVEMENTS AND EXTRACURRICULAR ACTIVITIES  \\n \\n● Scored 94 percentile in JEE Mains 2023 among more than a million candidates.  \\n● D3 My first Hackathon (IIIT Bhubaneshwar) and placed in the top 3.  \\n● Sanitas project Selected for the Microsoft Startup founder's Hub.  \\n \"),\n",
       " Document(metadata={'source': '../../media/pdfs/anurag_ML_WEB.pdf', 'page': 0}, page_content=\"   \\n \\n   \\n Anurag Singh  \\nInternational Institute  of Information Technology Bhubaneswar,  Orrisa  - India  \\nPhn: +91 -9098691543      Email: b323009@iiit -bh.ac.in  GitHub  | LinkedIn  \\n  Portfolio: https://anurag.icu         Blogging: https://blogsingh.anurag.icu  \\n \\n \\nEDUCATION  \\n \\n \\n● Simran Public Hr. Sec. School, Maihar (M.P.)  2020 \\nClass X: Madhya Pradesh Board of Secondary Education   95% \\n● Blue Bells Hr. Sec. School, Maihar (M.P.)  2022 \\nClass XII: Madhya Pradesh Board of Secondary Education   85% \\n● Indian Institute of Information Technology Bhubaneswar  2023 -2027  \\n     BTech. In Electrical Engineering  \\n \\nSKILLS  AND  INTERESTS  \\n \\n \\nLanguages:  Python,  C++,  C, JavaScript  \\nWeb Technologies:  Html,  CSS,  JavaScript, Bootstrap,  Django,  MySQL, PostgreSQL  \\nLibraries:  GSAP, chart.js, NumPy, Pandas, Matplotlib, Seaborne, Scikit -learn, \\nTensorFlow  \\nAreas Of Interest: DSA,  AI/ML and Deep Learning,  Full stack Developer  \\nFamiliar Software's:  Vs Code,  Sublime, Git,  GitHub,  Figma, Azure  \\n \\nPROJECTS  \\n \\n● Depression -Sathi  \\n● Created a platform facilitating interaction between doctors and users for healing \\nthrough chat and chatbots.  \\n● GitHub Link: Code   Preview  \\n \\n \\n● Plog payout  \\n● Google Solution Challenge  \\n● Team Worked along with the Friend with having knowledge of AI/ML.  \\n● Technologies used:  HTML, CSS, JavaScript, Django, Python, TensorFlow, Py Torch  \"),\n",
       " Document(metadata={'source': '../../media/pdfs/anurag_ML_WEB.pdf', 'page': 1}, page_content=\"   \\n \\n   \\n ● Features include a reward system, map location for litter hotspots, a blog system,  \\n● GitHub Link: Code   Preview  \\n \\n● Canv.AS  \\n● Ecommerce Website for shopping Arts made by me!!  \\n● Canv.AS  streamlines online shopping with personalized recommendations, efficient order \\nmanagement, and secure payments.  \\n● Technologies used:  HTML, CSS, JavaScript, Django, Python, Stripe, Razor pay, Ck -editor  \\n● GitHub Link: Code   Preview  \\n \\n● Sanitas  \\n● A platform with having disease information regarding  nearby locality, cities or in state  \\n● Sanitas with personalized charts, graph, heatmaps, cluster map and analyzing page.  \\n● GitHub Link: Code   Preview  \\n \\n● Mr-Analyzer  \\n● A platform showcasing  all my Data Science and Machine Learning projects with web \\nimplementation and a well -structured layout.  \\n• WhatsApp Chat Analyzer  \\n• Diabetes Predictor  \\n• Rock Mine Predictor  \\n• Movie Recommendation  \\n● GitHub Link: Code   Preview  \\n \\nACHIEVEMENTS AND EXTRACURRICULAR ACTIVITIES  \\n \\n● Scored 94 percentile in JEE Mains 2023 among more than a million candidates.  \\n● D3 My first Hackathon (IIIT Bhubaneshwar) and placed in the top 3.  \\n● Sanitas project Selected for the Microsoft Startup founder's Hub.  \\n \"),\n",
       " Document(metadata={'source': '../../media/pdfs/anurag_ML_WEB_ThETX4y.pdf', 'page': 0}, page_content=\"   \\n \\n   \\n Anurag Singh  \\nInternational Institute  of Information Technology Bhubaneswar,  Orrisa  - India  \\nPhn: +91 -9098691543      Email: b323009@iiit -bh.ac.in  GitHub  | LinkedIn  \\n  Portfolio: https://anurag.icu         Blogging: https://blogsingh.anurag.icu  \\n \\n \\nEDUCATION  \\n \\n \\n● Simran Public Hr. Sec. School, Maihar (M.P.)  2020 \\nClass X: Madhya Pradesh Board of Secondary Education   95% \\n● Blue Bells Hr. Sec. School, Maihar (M.P.)  2022 \\nClass XII: Madhya Pradesh Board of Secondary Education   85% \\n● Indian Institute of Information Technology Bhubaneswar  2023 -2027  \\n     BTech. In Electrical Engineering  \\n \\nSKILLS  AND  INTERESTS  \\n \\n \\nLanguages:  Python,  C++,  C, JavaScript  \\nWeb Technologies:  Html,  CSS,  JavaScript, Bootstrap,  Django,  MySQL, PostgreSQL  \\nLibraries:  GSAP, chart.js, NumPy, Pandas, Matplotlib, Seaborne, Scikit -learn, \\nTensorFlow  \\nAreas Of Interest: DSA,  AI/ML and Deep Learning,  Full stack Developer  \\nFamiliar Software's:  Vs Code,  Sublime, Git,  GitHub,  Figma, Azure  \\n \\nPROJECTS  \\n \\n● Depression -Sathi  \\n● Created a platform facilitating interaction between doctors and users for healing \\nthrough chat and chatbots.  \\n● GitHub Link: Code   Preview  \\n \\n \\n● Plog payout  \\n● Google Solution Challenge  \\n● Team Worked along with the Friend with having knowledge of AI/ML.  \\n● Technologies used:  HTML, CSS, JavaScript, Django, Python, TensorFlow, Py Torch  \"),\n",
       " Document(metadata={'source': '../../media/pdfs/anurag_ML_WEB_ThETX4y.pdf', 'page': 1}, page_content=\"   \\n \\n   \\n ● Features include a reward system, map location for litter hotspots, a blog system,  \\n● GitHub Link: Code   Preview  \\n \\n● Canv.AS  \\n● Ecommerce Website for shopping Arts made by me!!  \\n● Canv.AS  streamlines online shopping with personalized recommendations, efficient order \\nmanagement, and secure payments.  \\n● Technologies used:  HTML, CSS, JavaScript, Django, Python, Stripe, Razor pay, Ck -editor  \\n● GitHub Link: Code   Preview  \\n \\n● Sanitas  \\n● A platform with having disease information regarding  nearby locality, cities or in state  \\n● Sanitas with personalized charts, graph, heatmaps, cluster map and analyzing page.  \\n● GitHub Link: Code   Preview  \\n \\n● Mr-Analyzer  \\n● A platform showcasing  all my Data Science and Machine Learning projects with web \\nimplementation and a well -structured layout.  \\n• WhatsApp Chat Analyzer  \\n• Diabetes Predictor  \\n• Rock Mine Predictor  \\n• Movie Recommendation  \\n● GitHub Link: Code   Preview  \\n \\nACHIEVEMENTS AND EXTRACURRICULAR ACTIVITIES  \\n \\n● Scored 94 percentile in JEE Mains 2023 among more than a million candidates.  \\n● D3 My first Hackathon (IIIT Bhubaneshwar) and placed in the top 3.  \\n● Sanitas project Selected for the Microsoft Startup founder's Hub.  \\n \")]"
      ]
     },
     "execution_count": 15,
     "metadata": {},
     "output_type": "execute_result"
    }
   ],
   "source": [
    "pdf_loaderr=PyPDFDirectoryLoader(\"../../media/pdfs\")\n",
    "documentsss = pdf_loaderr.load()\n",
    "documentsss"
   ]
  }
 ],
 "metadata": {
  "kernelspec": {
   "display_name": "analyzerenv",
   "language": "python",
   "name": "python3"
  },
  "language_info": {
   "codemirror_mode": {
    "name": "ipython",
    "version": 3
   },
   "file_extension": ".py",
   "mimetype": "text/x-python",
   "name": "python",
   "nbconvert_exporter": "python",
   "pygments_lexer": "ipython3",
   "version": "3.12.4"
  }
 },
 "nbformat": 4,
 "nbformat_minor": 2
}
