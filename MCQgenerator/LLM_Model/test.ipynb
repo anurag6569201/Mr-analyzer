{
 "cells": [
  {
   "cell_type": "code",
   "execution_count": 1,
   "metadata": {},
   "outputs": [],
   "source": [
    "# pip install langchain-google-genai \n",
    "# pip install langchain"
   ]
  },
  {
   "cell_type": "code",
   "execution_count": 2,
   "metadata": {},
   "outputs": [],
   "source": [
    "from langchain.prompts import PromptTemplate\n",
    "from langchain.chains import LLMChain\n",
    "from langchain.chains import SequentialChain"
   ]
  },
  {
   "cell_type": "code",
   "execution_count": 3,
   "metadata": {},
   "outputs": [],
   "source": [
    "import os\n",
    "from dotenv import load_dotenv\n",
    "\n",
    "load_dotenv()\n",
    "google_gemini_api=os.getenv(\"GOOGLE_API_KEY\")"
   ]
  },
  {
   "cell_type": "code",
   "execution_count": 4,
   "metadata": {},
   "outputs": [
    {
     "name": "stderr",
     "output_type": "stream",
     "text": [
      "/Users/anuragsingh/Documents/GitHub/Mr-analyzer/analyzerenv/lib/python3.12/site-packages/tqdm/auto.py:21: TqdmWarning: IProgress not found. Please update jupyter and ipywidgets. See https://ipywidgets.readthedocs.io/en/stable/user_install.html\n",
      "  from .autonotebook import tqdm as notebook_tqdm\n",
      "WARNING: All log messages before absl::InitializeLog() is called are written to STDERR\n",
      "I0000 00:00:1721541862.178148   62843 config.cc:230] gRPC experiments enabled: call_status_override_on_cancellation, event_engine_dns, event_engine_listener, http2_stats_fix, monitoring_experiment, pick_first_new, trace_record_callops, work_serializer_clears_time_cache\n",
      "I0000 00:00:1721541862.187097   62843 check_gcp_environment_no_op.cc:29] ALTS: Platforms other than Linux and Windows are not supported\n",
      "I0000 00:00:1721541862.188102   62843 check_gcp_environment_no_op.cc:29] ALTS: Platforms other than Linux and Windows are not supported\n"
     ]
    }
   ],
   "source": [
    "from langchain_google_genai import ChatGoogleGenerativeAI\n",
    "llm_model=ChatGoogleGenerativeAI(model=\"gemini-pro\",google_api_key=google_gemini_api)"
   ]
  },
  {
   "cell_type": "code",
   "execution_count": 5,
   "metadata": {},
   "outputs": [],
   "source": [
    "RESPONSE_JSON = {\n",
    "    \"1\": {\n",
    "        \"mcq\": \"multiple choice question\",\n",
    "        \"options\": {\n",
    "            \"a\": \"choice here\",\n",
    "            \"b\": \"choice here\",\n",
    "            \"c\": \"choice here\",\n",
    "            \"d\": \"choice here\",\n",
    "        },\n",
    "        \"correct\": \"correct answer\",\n",
    "    },\n",
    "    \"2\": {\n",
    "        \"mcq\": \"multiple choice question\",\n",
    "        \"options\": {\n",
    "            \"a\": \"choice here\",\n",
    "            \"b\": \"choice here\",\n",
    "            \"c\": \"choice here\",\n",
    "            \"d\": \"choice here\",\n",
    "        },\n",
    "        \"correct\": \"correct answer\",\n",
    "    },\n",
    "    \"3\": {\n",
    "        \"mcq\": \"multiple choice question\",\n",
    "        \"options\": {\n",
    "            \"a\": \"choice here\",\n",
    "            \"b\": \"choice here\",\n",
    "            \"c\": \"choice here\",\n",
    "            \"d\": \"choice here\",\n",
    "        },\n",
    "        \"correct\": \"correct answer\",\n",
    "    },\n",
    "}"
   ]
  },
  {
   "cell_type": "code",
   "execution_count": 6,
   "metadata": {},
   "outputs": [],
   "source": [
    "# TEMPLATE0: Generate a well-researched paragraph on a disease\n",
    "TEMPLATE0=\"\"\"\n",
    "You are an expert in medicine, specializing in the human body and various medical fields that affect human health. Your extensive knowledge encompasses a wide range of diseases, treatments, and medications. \n",
    "Your task is to write a unique, 300-word paragraph on {disease_name} . Paragraph should be well-researched, informative, and distinct from previous ones, highlighting the causes, symptoms, treatments, and any other relevant information about the disease.\n",
    "\"\"\""
   ]
  },
  {
   "cell_type": "code",
   "execution_count": 7,
   "metadata": {},
   "outputs": [],
   "source": [
    "para_generation_prompt = PromptTemplate(\n",
    "    input_variables=[\"disease_name\"],\n",
    "    template=TEMPLATE0\n",
    ")"
   ]
  },
  {
   "cell_type": "code",
   "execution_count": 8,
   "metadata": {},
   "outputs": [
    {
     "name": "stderr",
     "output_type": "stream",
     "text": [
      "/Users/anuragsingh/Documents/GitHub/Mr-analyzer/analyzerenv/lib/python3.12/site-packages/langchain_core/_api/deprecation.py:139: LangChainDeprecationWarning: The class `LLMChain` was deprecated in LangChain 0.1.17 and will be removed in 1.0. Use RunnableSequence, e.g., `prompt | llm` instead.\n",
      "  warn_deprecated(\n"
     ]
    }
   ],
   "source": [
    "para_chain=LLMChain(llm=llm_model, prompt=para_generation_prompt, output_key=\"para\", verbose=True)"
   ]
  },
  {
   "cell_type": "code",
   "execution_count": 9,
   "metadata": {},
   "outputs": [],
   "source": [
    "TEMPLATE1=\"\"\"\n",
    "Text:{para}\n",
    "You are an expert MCQ maker. Given the above text, it is your job to \\\n",
    "create a quiz of {number} multiple choice questions for the disease {disease_name} for creating the public awareness. \n",
    "Make sure the questions are not repeated and check all the questions to be conforming the text as well.\n",
    "Make sure to format your response like  RESPONSE_JSON below  and use it as a guide. \\\n",
    "Ensure to make {number} MCQs\n",
    "### RESPONSE_JSON\n",
    "{response_json}\n",
    "\n",
    "\"\"\""
   ]
  },
  {
   "cell_type": "code",
   "execution_count": 10,
   "metadata": {},
   "outputs": [],
   "source": [
    "quiz_generation_prompt = PromptTemplate(\n",
    "    input_variables=[\"para\", \"number\", \"disease_name\", \"response_json\"],\n",
    "    template=TEMPLATE1\n",
    ")"
   ]
  },
  {
   "cell_type": "code",
   "execution_count": 11,
   "metadata": {},
   "outputs": [],
   "source": [
    "quiz_chain=LLMChain(llm=llm_model, prompt=quiz_generation_prompt, output_key=\"quiz\", verbose=True)"
   ]
  },
  {
   "cell_type": "code",
   "execution_count": 12,
   "metadata": {},
   "outputs": [],
   "source": [
    "TEMPLATE2=\"\"\"\n",
    "You are an medical expert and health advocates or public health advocates. Given a Multiple Choice Quiz for {disease_name} disease.\\\n",
    "You need to evaluate the quality of the question and give a complete analysis of the quiz. Only use at max 50 words for quality analysis. \n",
    "if the quiz is not at per with the quality and awreness and helpfull related to the public,\\\n",
    "update the quiz questions which needs to be changed and change the tone such that it perfectly fits the public awareness and health\n",
    "Quiz_MCQs:\n",
    "{quiz}\n",
    "\n",
    "Check from an medical expert and health advocates or public health advocates of the above quiz:\n",
    "\"\"\""
   ]
  },
  {
   "cell_type": "code",
   "execution_count": 13,
   "metadata": {},
   "outputs": [],
   "source": [
    "quiz_evaluation_prompt=PromptTemplate(input_variables=[\"disease_name\", \"quiz\"], template=TEMPLATE2)"
   ]
  },
  {
   "cell_type": "code",
   "execution_count": 14,
   "metadata": {},
   "outputs": [],
   "source": [
    "review_chain=LLMChain(llm=llm_model, prompt=quiz_evaluation_prompt, output_key=\"review\", verbose=True)"
   ]
  },
  {
   "cell_type": "code",
   "execution_count": 15,
   "metadata": {},
   "outputs": [],
   "source": [
    "generate_evaluate_chain=SequentialChain(\n",
    "    chains=[para_chain,quiz_chain, review_chain], \n",
    "    input_variables=[\"disease_name\", \"number\", \"response_json\"],\n",
    "    output_variables=[\"para\", \"quiz\", \"review\"], \n",
    "    verbose=True,\n",
    ")"
   ]
  },
  {
   "cell_type": "markdown",
   "metadata": {},
   "source": [
    "## loading the data for generating the MCQs"
   ]
  },
  {
   "cell_type": "code",
   "execution_count": 16,
   "metadata": {},
   "outputs": [],
   "source": [
    "import pandas as pd\n",
    "import json"
   ]
  },
  {
   "cell_type": "code",
   "execution_count": 17,
   "metadata": {},
   "outputs": [
    {
     "data": {
      "text/plain": [
       "'{\"1\": {\"mcq\": \"multiple choice question\", \"options\": {\"a\": \"choice here\", \"b\": \"choice here\", \"c\": \"choice here\", \"d\": \"choice here\"}, \"correct\": \"correct answer\"}, \"2\": {\"mcq\": \"multiple choice question\", \"options\": {\"a\": \"choice here\", \"b\": \"choice here\", \"c\": \"choice here\", \"d\": \"choice here\"}, \"correct\": \"correct answer\"}, \"3\": {\"mcq\": \"multiple choice question\", \"options\": {\"a\": \"choice here\", \"b\": \"choice here\", \"c\": \"choice here\", \"d\": \"choice here\"}, \"correct\": \"correct answer\"}}'"
      ]
     },
     "execution_count": 17,
     "metadata": {},
     "output_type": "execute_result"
    }
   ],
   "source": [
    "json.dumps(RESPONSE_JSON)"
   ]
  },
  {
   "cell_type": "code",
   "execution_count": 18,
   "metadata": {},
   "outputs": [],
   "source": [
    "MCQ_NUMBERS=5\n",
    "DISEASE_NAME=\"Maleria\""
   ]
  },
  {
   "cell_type": "code",
   "execution_count": 19,
   "metadata": {},
   "outputs": [
    {
     "name": "stderr",
     "output_type": "stream",
     "text": [
      "/Users/anuragsingh/Documents/GitHub/Mr-analyzer/analyzerenv/lib/python3.12/site-packages/langchain_core/_api/deprecation.py:139: LangChainDeprecationWarning: The method `Chain.__call__` was deprecated in langchain 0.1.0 and will be removed in 0.3.0. Use invoke instead.\n",
      "  warn_deprecated(\n"
     ]
    },
    {
     "name": "stdout",
     "output_type": "stream",
     "text": [
      "\n",
      "\n",
      "\u001b[1m> Entering new SequentialChain chain...\u001b[0m\n",
      "\n",
      "\n",
      "\u001b[1m> Entering new LLMChain chain...\u001b[0m\n",
      "Prompt after formatting:\n",
      "\u001b[32;1m\u001b[1;3m\n",
      "You are an expert in medicine, specializing in the human body and various medical fields that affect human health. Your extensive knowledge encompasses a wide range of diseases, treatments, and medications. \n",
      "Your task is to write a unique, 300-word paragraph on Maleria . Paragraph should be well-researched, informative, and distinct from previous ones, highlighting the causes, symptoms, treatments, and any other relevant information about the disease.\n",
      "\u001b[0m\n"
     ]
    },
    {
     "name": "stderr",
     "output_type": "stream",
     "text": [
      "I0000 00:00:1721541866.764704   63480 subchannel.cc:806] subchannel 0x12116fae0 {address=ipv6:%5B2404:6800:4002:80f::200a%5D:443, args={grpc.client_channel_factory=0x103fa30e0, grpc.default_authority=generativelanguage.googleapis.com:443, grpc.dns_enable_srv_queries=1, grpc.http2_scheme=https, grpc.internal.channel_credentials=0x120ced340, grpc.internal.client_channel_call_destination=0x1229cba18, grpc.internal.event_engine=0x12115b250, grpc.internal.security_connector=0x12113bd50, grpc.internal.subchannel_pool=0x120cf1f60, grpc.max_receive_message_length=-1, grpc.max_send_message_length=-1, grpc.primary_user_agent=grpc-python/1.65.1, grpc.resource_quota=0x120cee2d0, grpc.server_uri=dns:///generativelanguage.googleapis.com:443}}: connect failed (UNKNOWN:connect: No route to host (65) {created_time:\"2024-07-21T11:34:26.761908+05:30\"}), backing off for 999 ms\n",
      "I0000 00:00:1721541867.017474   63484 subchannel.cc:806] subchannel 0x121172140 {address=ipv6:%5B2404:6800:4002:810::200a%5D:443, args={grpc.client_channel_factory=0x103fa30e0, grpc.default_authority=generativelanguage.googleapis.com:443, grpc.dns_enable_srv_queries=1, grpc.http2_scheme=https, grpc.internal.channel_credentials=0x120ced340, grpc.internal.client_channel_call_destination=0x1229cba18, grpc.internal.event_engine=0x1211340a0, grpc.internal.security_connector=0x121171b80, grpc.internal.subchannel_pool=0x120cf1f60, grpc.max_receive_message_length=-1, grpc.max_send_message_length=-1, grpc.primary_user_agent=grpc-python/1.65.1, grpc.resource_quota=0x120cee2d0, grpc.server_uri=dns:///generativelanguage.googleapis.com:443}}: connect failed (UNKNOWN:connect: No route to host (65) {created_time:\"2024-07-21T11:34:27.01736+05:30\"}), backing off for 1000 ms\n",
      "I0000 00:00:1721541867.274705   63481 subchannel.cc:806] subchannel 0x121173f90 {address=ipv6:%5B2404:6800:4002:811::200a%5D:443, args={grpc.client_channel_factory=0x103fa30e0, grpc.default_authority=generativelanguage.googleapis.com:443, grpc.dns_enable_srv_queries=1, grpc.http2_scheme=https, grpc.internal.channel_credentials=0x120ced340, grpc.internal.client_channel_call_destination=0x1229cba18, grpc.internal.event_engine=0x121172c70, grpc.internal.security_connector=0x1211739d0, grpc.internal.subchannel_pool=0x120cf1f60, grpc.max_receive_message_length=-1, grpc.max_send_message_length=-1, grpc.primary_user_agent=grpc-python/1.65.1, grpc.resource_quota=0x120cee2d0, grpc.server_uri=dns:///generativelanguage.googleapis.com:443}}: connect failed (UNKNOWN:connect: No route to host (65) {created_time:\"2024-07-21T11:34:27.274595+05:30\"}), backing off for 1000 ms\n",
      "I0000 00:00:1721541867.527876   63480 subchannel.cc:806] subchannel 0x121175df0 {address=ipv6:%5B2404:6800:4002:813::200a%5D:443, args={grpc.client_channel_factory=0x103fa30e0, grpc.default_authority=generativelanguage.googleapis.com:443, grpc.dns_enable_srv_queries=1, grpc.http2_scheme=https, grpc.internal.channel_credentials=0x120ced340, grpc.internal.client_channel_call_destination=0x1229cba18, grpc.internal.event_engine=0x121173ca0, grpc.internal.security_connector=0x121175830, grpc.internal.subchannel_pool=0x120cf1f60, grpc.max_receive_message_length=-1, grpc.max_send_message_length=-1, grpc.primary_user_agent=grpc-python/1.65.1, grpc.resource_quota=0x120cee2d0, grpc.server_uri=dns:///generativelanguage.googleapis.com:443}}: connect failed (UNKNOWN:connect: No route to host (65) {created_time:\"2024-07-21T11:34:27.527729+05:30\"}), backing off for 999 ms\n",
      "I0000 00:00:1721541867.767816   63484 subchannel.cc:761] subchannel 0x12116fae0 {address=ipv6:%5B2404:6800:4002:80f::200a%5D:443, args={grpc.client_channel_factory=0x103fa30e0, grpc.default_authority=generativelanguage.googleapis.com:443, grpc.dns_enable_srv_queries=1, grpc.http2_scheme=https, grpc.internal.channel_credentials=0x120ced340, grpc.internal.client_channel_call_destination=0x1229cba18, grpc.internal.event_engine=0x12115b250, grpc.internal.security_connector=0x12113bd50, grpc.internal.subchannel_pool=0x120cf1f60, grpc.max_receive_message_length=-1, grpc.max_send_message_length=-1, grpc.primary_user_agent=grpc-python/1.65.1, grpc.resource_quota=0x120cee2d0, grpc.server_uri=dns:///generativelanguage.googleapis.com:443}}: backoff delay elapsed, reporting IDLE\n",
      "I0000 00:00:1721541868.023440   63481 subchannel.cc:761] subchannel 0x121172140 {address=ipv6:%5B2404:6800:4002:810::200a%5D:443, args={grpc.client_channel_factory=0x103fa30e0, grpc.default_authority=generativelanguage.googleapis.com:443, grpc.dns_enable_srv_queries=1, grpc.http2_scheme=https, grpc.internal.channel_credentials=0x120ced340, grpc.internal.client_channel_call_destination=0x1229cba18, grpc.internal.event_engine=0x1211340a0, grpc.internal.security_connector=0x121171b80, grpc.internal.subchannel_pool=0x120cf1f60, grpc.max_receive_message_length=-1, grpc.max_send_message_length=-1, grpc.primary_user_agent=grpc-python/1.65.1, grpc.resource_quota=0x120cee2d0, grpc.server_uri=dns:///generativelanguage.googleapis.com:443}}: backoff delay elapsed, reporting IDLE\n",
      "I0000 00:00:1721541868.279532   63480 subchannel.cc:761] subchannel 0x121173f90 {address=ipv6:%5B2404:6800:4002:811::200a%5D:443, args={grpc.client_channel_factory=0x103fa30e0, grpc.default_authority=generativelanguage.googleapis.com:443, grpc.dns_enable_srv_queries=1, grpc.http2_scheme=https, grpc.internal.channel_credentials=0x120ced340, grpc.internal.client_channel_call_destination=0x1229cba18, grpc.internal.event_engine=0x121172c70, grpc.internal.security_connector=0x1211739d0, grpc.internal.subchannel_pool=0x120cf1f60, grpc.max_receive_message_length=-1, grpc.max_send_message_length=-1, grpc.primary_user_agent=grpc-python/1.65.1, grpc.resource_quota=0x120cee2d0, grpc.server_uri=dns:///generativelanguage.googleapis.com:443}}: backoff delay elapsed, reporting IDLE\n",
      "I0000 00:00:1721541868.528850   63484 subchannel.cc:761] subchannel 0x121175df0 {address=ipv6:%5B2404:6800:4002:813::200a%5D:443, args={grpc.client_channel_factory=0x103fa30e0, grpc.default_authority=generativelanguage.googleapis.com:443, grpc.dns_enable_srv_queries=1, grpc.http2_scheme=https, grpc.internal.channel_credentials=0x120ced340, grpc.internal.client_channel_call_destination=0x1229cba18, grpc.internal.event_engine=0x121173ca0, grpc.internal.security_connector=0x121175830, grpc.internal.subchannel_pool=0x120cf1f60, grpc.max_receive_message_length=-1, grpc.max_send_message_length=-1, grpc.primary_user_agent=grpc-python/1.65.1, grpc.resource_quota=0x120cee2d0, grpc.server_uri=dns:///generativelanguage.googleapis.com:443}}: backoff delay elapsed, reporting IDLE\n"
     ]
    },
    {
     "name": "stdout",
     "output_type": "stream",
     "text": [
      "\n",
      "\u001b[1m> Finished chain.\u001b[0m\n",
      "\n",
      "\n",
      "\u001b[1m> Entering new LLMChain chain...\u001b[0m\n",
      "Prompt after formatting:\n",
      "\u001b[32;1m\u001b[1;3m\n",
      "Text:Malaria, a deadly parasitic disease, is transmitted through the bite of infected Anopheles mosquitoes. The parasite, Plasmodium, infects red blood cells, causing a range of symptoms, including fever, chills, sweats, headache, muscle pain, and fatigue. If untreated, malaria can lead to severe complications, including anemia, organ failure, and death. Treatment involves antimalarial medications that target the parasite at different stages of its life cycle. Early diagnosis and prompt treatment are crucial to prevent severe outcomes. Prevention measures include using mosquito nets, repellents, and insecticides, as well as antimalarial drugs for travelers to endemic areas. Despite significant progress in malaria control, the disease remains a major public health concern, particularly in sub-Saharan Africa, where it is responsible for hundreds of thousands of deaths annually. Ongoing research focuses on developing more effective antimalarial drugs, vaccines, and transmission-blocking interventions to combat this devastating disease.\n",
      "You are an expert MCQ maker. Given the above text, it is your job to create a quiz of 5 multiple choice questions for the disease Maleria for creating the public awareness. \n",
      "Make sure the questions are not repeated and check all the questions to be conforming the text as well.\n",
      "Make sure to format your response like  RESPONSE_JSON below  and use it as a guide. Ensure to make 5 MCQs\n",
      "### RESPONSE_JSON\n",
      "{\"1\": {\"mcq\": \"multiple choice question\", \"options\": {\"a\": \"choice here\", \"b\": \"choice here\", \"c\": \"choice here\", \"d\": \"choice here\"}, \"correct\": \"correct answer\"}, \"2\": {\"mcq\": \"multiple choice question\", \"options\": {\"a\": \"choice here\", \"b\": \"choice here\", \"c\": \"choice here\", \"d\": \"choice here\"}, \"correct\": \"correct answer\"}, \"3\": {\"mcq\": \"multiple choice question\", \"options\": {\"a\": \"choice here\", \"b\": \"choice here\", \"c\": \"choice here\", \"d\": \"choice here\"}, \"correct\": \"correct answer\"}}\n",
      "\n",
      "\u001b[0m\n",
      "\n",
      "\u001b[1m> Finished chain.\u001b[0m\n",
      "\n",
      "\n",
      "\u001b[1m> Entering new LLMChain chain...\u001b[0m\n",
      "Prompt after formatting:\n",
      "\u001b[32;1m\u001b[1;3m\n",
      "You are an medical expert and health advocates or public health advocates. Given a Multiple Choice Quiz for Maleria disease.You need to evaluate the quality of the question and give a complete analysis of the quiz. Only use at max 50 words for quality analysis. \n",
      "if the quiz is not at per with the quality and awreness and helpfull related to the public,update the quiz questions which needs to be changed and change the tone such that it perfectly fits the public awareness and health\n",
      "Quiz_MCQs:\n",
      "### RESPONSE_JSON\n",
      "{\"1\": {\"mcq\": \"How is malaria transmitted?\", \"options\": {\"a\": \"Through water contamination\", \"b\": \"Through mosquito bites\", \"c\": \"Through direct contact with infected individuals\", \"d\": \"Through animal bites\"}, \"correct\": \"b\"}, \"2\": {\"mcq\": \"What is the primary symptom of malaria?\", \"options\": {\"a\": \"Cough\", \"b\": \"Fever\", \"c\": \"Diarrhea\", \"d\": \"Skin rash\"}, \"correct\": \"b\"}, \"3\": {\"mcq\": \"Which of the following is NOT a preventive measure for malaria?\", \"options\": {\"a\": \"Using mosquito nets\", \"b\": \"Taking antimalarial drugs\", \"c\": \"Living in a well-lit area\", \"d\": \"Using insect repellent\"}, \"correct\": \"c\"}, \"4\": {\"mcq\": \"What is the most effective way to treat malaria?\", \"options\": {\"a\": \"Antibiotics\", \"b\": \"Antimalarial drugs\", \"c\": \"Painkillers\", \"d\": \"Home remedies\"}, \"correct\": \"b\"}, \"5\": {\"mcq\": \"Which region of the world is most affected by malaria?\", \"options\": {\"a\": \"South America\", \"b\": \"North America\", \"c\": \"Sub-Saharan Africa\", \"d\": \"Europe\"}, \"correct\": \"c\"}}\n",
      "\n",
      "Check from an medical expert and health advocates or public health advocates of the above quiz:\n",
      "\u001b[0m\n",
      "\n",
      "\u001b[1m> Finished chain.\u001b[0m\n",
      "\n",
      "\u001b[1m> Finished chain.\u001b[0m\n"
     ]
    }
   ],
   "source": [
    "response=generate_evaluate_chain(\n",
    "    {\n",
    "        \"number\":MCQ_NUMBERS,\n",
    "        \"disease_name\":DISEASE_NAME,\n",
    "        \"response_json\":json.dumps(RESPONSE_JSON)\n",
    "    }\n",
    ")"
   ]
  },
  {
   "cell_type": "code",
   "execution_count": 20,
   "metadata": {},
   "outputs": [
    {
     "data": {
      "text/plain": [
       "{'number': 5,\n",
       " 'disease_name': 'Maleria',\n",
       " 'response_json': '{\"1\": {\"mcq\": \"multiple choice question\", \"options\": {\"a\": \"choice here\", \"b\": \"choice here\", \"c\": \"choice here\", \"d\": \"choice here\"}, \"correct\": \"correct answer\"}, \"2\": {\"mcq\": \"multiple choice question\", \"options\": {\"a\": \"choice here\", \"b\": \"choice here\", \"c\": \"choice here\", \"d\": \"choice here\"}, \"correct\": \"correct answer\"}, \"3\": {\"mcq\": \"multiple choice question\", \"options\": {\"a\": \"choice here\", \"b\": \"choice here\", \"c\": \"choice here\", \"d\": \"choice here\"}, \"correct\": \"correct answer\"}}',\n",
       " 'para': 'Malaria, a deadly parasitic disease, is transmitted through the bite of infected Anopheles mosquitoes. The parasite, Plasmodium, infects red blood cells, causing a range of symptoms, including fever, chills, sweats, headache, muscle pain, and fatigue. If untreated, malaria can lead to severe complications, including anemia, organ failure, and death. Treatment involves antimalarial medications that target the parasite at different stages of its life cycle. Early diagnosis and prompt treatment are crucial to prevent severe outcomes. Prevention measures include using mosquito nets, repellents, and insecticides, as well as antimalarial drugs for travelers to endemic areas. Despite significant progress in malaria control, the disease remains a major public health concern, particularly in sub-Saharan Africa, where it is responsible for hundreds of thousands of deaths annually. Ongoing research focuses on developing more effective antimalarial drugs, vaccines, and transmission-blocking interventions to combat this devastating disease.',\n",
       " 'quiz': '### RESPONSE_JSON\\n{\"1\": {\"mcq\": \"How is malaria transmitted?\", \"options\": {\"a\": \"Through water contamination\", \"b\": \"Through mosquito bites\", \"c\": \"Through direct contact with infected individuals\", \"d\": \"Through animal bites\"}, \"correct\": \"b\"}, \"2\": {\"mcq\": \"What is the primary symptom of malaria?\", \"options\": {\"a\": \"Cough\", \"b\": \"Fever\", \"c\": \"Diarrhea\", \"d\": \"Skin rash\"}, \"correct\": \"b\"}, \"3\": {\"mcq\": \"Which of the following is NOT a preventive measure for malaria?\", \"options\": {\"a\": \"Using mosquito nets\", \"b\": \"Taking antimalarial drugs\", \"c\": \"Living in a well-lit area\", \"d\": \"Using insect repellent\"}, \"correct\": \"c\"}, \"4\": {\"mcq\": \"What is the most effective way to treat malaria?\", \"options\": {\"a\": \"Antibiotics\", \"b\": \"Antimalarial drugs\", \"c\": \"Painkillers\", \"d\": \"Home remedies\"}, \"correct\": \"b\"}, \"5\": {\"mcq\": \"Which region of the world is most affected by malaria?\", \"options\": {\"a\": \"South America\", \"b\": \"North America\", \"c\": \"Sub-Saharan Africa\", \"d\": \"Europe\"}, \"correct\": \"c\"}}',\n",
       " 'review': '**Quality Analysis:**\\n\\nThe quiz is comprehensive and covers essential aspects of malaria. However, the questions could be more engaging and user-friendly.\\n\\n**Updated Quiz Questions:**\\n\\n1. **How can you prevent malaria?**\\n(a) Using mosquito nets\\n(b) Taking antimalarial drugs\\n(c) Using insect repellent\\n(d) All of the above\\n\\n2. **What are the common symptoms of malaria?**\\n(a) Fever, chills, and sweating\\n(b) Headache and muscle pain\\n(c) Nausea and vomiting\\n(d) All of the above\\n\\n3. **Which of the following is a risk factor for malaria?**\\n(a) Traveling to an affected area\\n(b) Having a weakened immune system\\n(c) Being pregnant\\n(d) All of the above\\n\\n4. **What is the most effective treatment for malaria?**\\n(a) Antimalarial drugs\\n(b) Antibiotics\\n(c) Home remedies\\n(d) There is no effective treatment\\n\\n5. **Which region of the world is most affected by malaria?**\\n(a) South America\\n(b) Sub-Saharan Africa\\n(c) Southeast Asia\\n(d) Europe'}"
      ]
     },
     "execution_count": 20,
     "metadata": {},
     "output_type": "execute_result"
    }
   ],
   "source": [
    "response"
   ]
  },
  {
   "cell_type": "code",
   "execution_count": 21,
   "metadata": {},
   "outputs": [],
   "source": [
    "new_quiz_df=pd.DataFrame([response])"
   ]
  },
  {
   "cell_type": "code",
   "execution_count": 24,
   "metadata": {},
   "outputs": [
    {
     "data": {
      "text/html": [
       "<div>\n",
       "<style scoped>\n",
       "    .dataframe tbody tr th:only-of-type {\n",
       "        vertical-align: middle;\n",
       "    }\n",
       "\n",
       "    .dataframe tbody tr th {\n",
       "        vertical-align: top;\n",
       "    }\n",
       "\n",
       "    .dataframe thead th {\n",
       "        text-align: right;\n",
       "    }\n",
       "</style>\n",
       "<table border=\"1\" class=\"dataframe\">\n",
       "  <thead>\n",
       "    <tr style=\"text-align: right;\">\n",
       "      <th></th>\n",
       "      <th>number</th>\n",
       "      <th>disease_name</th>\n",
       "      <th>response_json</th>\n",
       "      <th>para</th>\n",
       "      <th>quiz</th>\n",
       "      <th>review</th>\n",
       "    </tr>\n",
       "  </thead>\n",
       "  <tbody>\n",
       "    <tr>\n",
       "      <th>0</th>\n",
       "      <td>5</td>\n",
       "      <td>Maleria</td>\n",
       "      <td>{\"1\": {\"mcq\": \"multiple choice question\", \"opt...</td>\n",
       "      <td>Malaria, a deadly parasitic disease, is transm...</td>\n",
       "      <td>### RESPONSE_JSON\\n{\"1\": {\"mcq\": \"How is malar...</td>\n",
       "      <td>**Quality Analysis:**\\n\\nThe quiz is comprehen...</td>\n",
       "    </tr>\n",
       "  </tbody>\n",
       "</table>\n",
       "</div>"
      ],
      "text/plain": [
       "   number disease_name                                      response_json  \\\n",
       "0       5      Maleria  {\"1\": {\"mcq\": \"multiple choice question\", \"opt...   \n",
       "\n",
       "                                                para  \\\n",
       "0  Malaria, a deadly parasitic disease, is transm...   \n",
       "\n",
       "                                                quiz  \\\n",
       "0  ### RESPONSE_JSON\\n{\"1\": {\"mcq\": \"How is malar...   \n",
       "\n",
       "                                              review  \n",
       "0  **Quality Analysis:**\\n\\nThe quiz is comprehen...  "
      ]
     },
     "execution_count": 24,
     "metadata": {},
     "output_type": "execute_result"
    }
   ],
   "source": [
    "new_quiz_df"
   ]
  },
  {
   "cell_type": "code",
   "execution_count": 36,
   "metadata": {},
   "outputs": [],
   "source": [
    "para_json=new_quiz_df.loc[0,'para'].strip()"
   ]
  },
  {
   "cell_type": "code",
   "execution_count": 38,
   "metadata": {},
   "outputs": [
    {
     "ename": "AttributeError",
     "evalue": "'str' object has no attribute 'text'",
     "output_type": "error",
     "traceback": [
      "\u001b[0;31m---------------------------------------------------------------------------\u001b[0m",
      "\u001b[0;31mAttributeError\u001b[0m                            Traceback (most recent call last)",
      "Cell \u001b[0;32mIn[38], line 1\u001b[0m\n\u001b[0;32m----> 1\u001b[0m \u001b[43mpara_json\u001b[49m\u001b[38;5;241;43m.\u001b[39;49m\u001b[43mtext\u001b[49m\n",
      "\u001b[0;31mAttributeError\u001b[0m: 'str' object has no attribute 'text'"
     ]
    }
   ],
   "source": [
    "para_json"
   ]
  },
  {
   "cell_type": "code",
   "execution_count": 25,
   "metadata": {},
   "outputs": [
    {
     "name": "stdout",
     "output_type": "stream",
     "text": [
      "Question 1: How is malaria transmitted?\n",
      "  a: Through water contamination\n",
      "  b: Through mosquito bites\n",
      "  c: Through direct contact with infected individuals\n",
      "  d: Through animal bites\n",
      "Correct Answer: b\n",
      "\n",
      "Question 2: What is the primary symptom of malaria?\n",
      "  a: Cough\n",
      "  b: Fever\n",
      "  c: Diarrhea\n",
      "  d: Skin rash\n",
      "Correct Answer: b\n",
      "\n",
      "Question 3: Which of the following is NOT a preventive measure for malaria?\n",
      "  a: Using mosquito nets\n",
      "  b: Taking antimalarial drugs\n",
      "  c: Living in a well-lit area\n",
      "  d: Using insect repellent\n",
      "Correct Answer: c\n",
      "\n",
      "Question 4: What is the most effective way to treat malaria?\n",
      "  a: Antibiotics\n",
      "  b: Antimalarial drugs\n",
      "  c: Painkillers\n",
      "  d: Home remedies\n",
      "Correct Answer: b\n",
      "\n",
      "Question 5: Which region of the world is most affected by malaria?\n",
      "  a: South America\n",
      "  b: North America\n",
      "  c: Sub-Saharan Africa\n",
      "  d: Europe\n",
      "Correct Answer: c\n",
      "\n"
     ]
    }
   ],
   "source": [
    "quiz_json = new_quiz_df.loc[0, 'quiz'].split('### RESPONSE_JSON\\n')[1]\n",
    "quiz_data = json.loads(quiz_json)\n",
    "\n",
    "# Display the quiz questions\n",
    "for key, value in quiz_data.items():\n",
    "    print(f\"Question {key}: {value['mcq']}\")\n",
    "    for option_key, option_value in value['options'].items():\n",
    "        print(f\"  {option_key}: {option_value}\")\n",
    "    print(f\"Correct Answer: {value['correct']}\\n\")"
   ]
  },
  {
   "cell_type": "code",
   "execution_count": 23,
   "metadata": {},
   "outputs": [],
   "source": [
    "quiz_list = []\n",
    "for key, value in quiz_data.items():\n",
    "    question = value['mcq']\n",
    "    options = value['options']\n",
    "    correct_ans = value['correct']\n",
    "    row = {\n",
    "        'question': question,\n",
    "        'optiona': options.get('a', ''),\n",
    "        'optionb': options.get('b', ''),\n",
    "        'optionc': options.get('c', ''),\n",
    "        'optiond': options.get('d', ''),\n",
    "        'correctans': correct_ans\n",
    "    }\n",
    "    quiz_list.append(row)\n",
    "\n",
    "# Convert to DataFrame\n",
    "df_quiz = pd.DataFrame(quiz_list)\n",
    "\n",
    "# Save to CSV\n",
    "df_quiz.to_csv('quiz_questions.csv', index=False)"
   ]
  }
 ],
 "metadata": {
  "kernelspec": {
   "display_name": "analyzerenv",
   "language": "python",
   "name": "python3"
  },
  "language_info": {
   "codemirror_mode": {
    "name": "ipython",
    "version": 3
   },
   "file_extension": ".py",
   "mimetype": "text/x-python",
   "name": "python",
   "nbconvert_exporter": "python",
   "pygments_lexer": "ipython3",
   "version": "3.12.4"
  }
 },
 "nbformat": 4,
 "nbformat_minor": 2
}
