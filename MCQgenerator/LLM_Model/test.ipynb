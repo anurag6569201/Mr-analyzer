{
 "cells": [
  {
   "cell_type": "code",
   "execution_count": 1,
   "metadata": {},
   "outputs": [],
   "source": [
    "# pip install langchain-google-genai \n",
    "# pip install langchain"
   ]
  },
  {
   "cell_type": "code",
   "execution_count": 2,
   "metadata": {},
   "outputs": [],
   "source": [
    "from langchain.prompts import PromptTemplate\n",
    "from langchain.chains import LLMChain\n",
    "from langchain.chains import SequentialChain"
   ]
  },
  {
   "cell_type": "code",
   "execution_count": 3,
   "metadata": {},
   "outputs": [],
   "source": [
    "import os\n",
    "from dotenv import load_dotenv\n",
    "\n",
    "load_dotenv()\n",
    "google_gemini_api=os.getenv(\"GOOGLE_API_KEY\")"
   ]
  },
  {
   "cell_type": "code",
   "execution_count": 4,
   "metadata": {},
   "outputs": [
    {
     "name": "stderr",
     "output_type": "stream",
     "text": [
      "/Users/anuragsingh/Documents/GitHub/Mr-analyzer/analyzerenv/lib/python3.12/site-packages/tqdm/auto.py:21: TqdmWarning: IProgress not found. Please update jupyter and ipywidgets. See https://ipywidgets.readthedocs.io/en/stable/user_install.html\n",
      "  from .autonotebook import tqdm as notebook_tqdm\n",
      "WARNING: All log messages before absl::InitializeLog() is called are written to STDERR\n",
      "I0000 00:00:1721647494.562697  164691 config.cc:230] gRPC experiments enabled: call_status_override_on_cancellation, event_engine_dns, event_engine_listener, http2_stats_fix, monitoring_experiment, pick_first_new, trace_record_callops, work_serializer_clears_time_cache\n",
      "I0000 00:00:1721647494.568280  164691 check_gcp_environment_no_op.cc:29] ALTS: Platforms other than Linux and Windows are not supported\n",
      "I0000 00:00:1721647494.569374  164691 check_gcp_environment_no_op.cc:29] ALTS: Platforms other than Linux and Windows are not supported\n"
     ]
    }
   ],
   "source": [
    "from langchain_google_genai import ChatGoogleGenerativeAI\n",
    "llm_model=ChatGoogleGenerativeAI(model=\"gemini-pro\",google_api_key=google_gemini_api)"
   ]
  },
  {
   "cell_type": "code",
   "execution_count": 5,
   "metadata": {},
   "outputs": [],
   "source": [
    "RESPONSE_JSON = {\n",
    "    \"1\": {\n",
    "        \"mcq\": \"multiple choice question\",\n",
    "        \"options\": {\n",
    "            \"a\": \"choice here\",\n",
    "            \"b\": \"choice here\",\n",
    "            \"c\": \"choice here\",\n",
    "            \"d\": \"choice here\",\n",
    "        },\n",
    "        \"correct\": \"correct answer\",\n",
    "    },\n",
    "    \"2\": {\n",
    "        \"mcq\": \"multiple choice question\",\n",
    "        \"options\": {\n",
    "            \"a\": \"choice here\",\n",
    "            \"b\": \"choice here\",\n",
    "            \"c\": \"choice here\",\n",
    "            \"d\": \"choice here\",\n",
    "        },\n",
    "        \"correct\": \"correct answer\",\n",
    "    },\n",
    "    \"3\": {\n",
    "        \"mcq\": \"multiple choice question\",\n",
    "        \"options\": {\n",
    "            \"a\": \"choice here\",\n",
    "            \"b\": \"choice here\",\n",
    "            \"c\": \"choice here\",\n",
    "            \"d\": \"choice here\",\n",
    "        },\n",
    "        \"correct\": \"correct answer\",\n",
    "    },\n",
    "}"
   ]
  },
  {
   "cell_type": "code",
   "execution_count": 6,
   "metadata": {},
   "outputs": [],
   "source": [
    "# TEMPLATE0: Generate a well-researched paragraph on a disease\n",
    "TEMPLATE0=\"\"\"\n",
    "You are an expert in medicine, specializing in the human body and various medical fields that affect human health. Your extensive knowledge encompasses a wide range of diseases, treatments, and medications. \n",
    "Your task is to write a unique, 300-word paragraph on {disease_name} . Paragraph should be well-researched, informative, and distinct from previous ones, highlighting the causes, symptoms, treatments, and any other relevant information about the disease.\n",
    "\"\"\""
   ]
  },
  {
   "cell_type": "code",
   "execution_count": 7,
   "metadata": {},
   "outputs": [],
   "source": [
    "para_generation_prompt = PromptTemplate(\n",
    "    input_variables=[\"disease_name\"],\n",
    "    template=TEMPLATE0\n",
    ")"
   ]
  },
  {
   "cell_type": "code",
   "execution_count": 8,
   "metadata": {},
   "outputs": [
    {
     "name": "stderr",
     "output_type": "stream",
     "text": [
      "/Users/anuragsingh/Documents/GitHub/Mr-analyzer/analyzerenv/lib/python3.12/site-packages/langchain_core/_api/deprecation.py:139: LangChainDeprecationWarning: The class `LLMChain` was deprecated in LangChain 0.1.17 and will be removed in 1.0. Use RunnableSequence, e.g., `prompt | llm` instead.\n",
      "  warn_deprecated(\n"
     ]
    }
   ],
   "source": [
    "para_chain=LLMChain(llm=llm_model, prompt=para_generation_prompt, output_key=\"para\", verbose=True)"
   ]
  },
  {
   "cell_type": "code",
   "execution_count": 9,
   "metadata": {},
   "outputs": [],
   "source": [
    "TEMPLATE1=\"\"\"\n",
    "Text:{para}\n",
    "You are an expert MCQ maker. Given the above text, it is your job to \\\n",
    "create a quiz of {number} multiple choice questions for the disease {disease_name} for creating the public awareness. \n",
    "Make sure the questions are not repeated and check all the questions to be conforming the text as well.\n",
    "Make sure to format your response like  RESPONSE_JSON below  and use it as a guide. \\\n",
    "Ensure to make {number} MCQs\n",
    "### RESPONSE_JSON\n",
    "{response_json}\n",
    "\n",
    "\"\"\""
   ]
  },
  {
   "cell_type": "code",
   "execution_count": 10,
   "metadata": {},
   "outputs": [],
   "source": [
    "quiz_generation_prompt = PromptTemplate(\n",
    "    input_variables=[\"para\", \"number\", \"disease_name\", \"response_json\"],\n",
    "    template=TEMPLATE1\n",
    ")"
   ]
  },
  {
   "cell_type": "code",
   "execution_count": 11,
   "metadata": {},
   "outputs": [],
   "source": [
    "quiz_chain=LLMChain(llm=llm_model, prompt=quiz_generation_prompt, output_key=\"quiz\", verbose=True)"
   ]
  },
  {
   "cell_type": "code",
   "execution_count": 12,
   "metadata": {},
   "outputs": [],
   "source": [
    "TEMPLATE2=\"\"\"\n",
    "You are an medical expert and health advocates or public health advocates. Given a Multiple Choice Quiz for {disease_name} disease.\\\n",
    "You need to evaluate the quality of the question and give a complete analysis of the quiz. Only use at max 50 words for quality analysis. \n",
    "if the quiz is not at per with the quality and awreness and helpfull related to the public,\\\n",
    "update the quiz questions which needs to be changed and change the tone such that it perfectly fits the public awareness and health\n",
    "Quiz_MCQs:\n",
    "{quiz}\n",
    "\n",
    "Check from an medical expert and health advocates or public health advocates of the above quiz:\n",
    "\"\"\""
   ]
  },
  {
   "cell_type": "code",
   "execution_count": 13,
   "metadata": {},
   "outputs": [],
   "source": [
    "quiz_evaluation_prompt=PromptTemplate(input_variables=[\"disease_name\", \"quiz\"], template=TEMPLATE2)"
   ]
  },
  {
   "cell_type": "code",
   "execution_count": 14,
   "metadata": {},
   "outputs": [],
   "source": [
    "review_chain=LLMChain(llm=llm_model, prompt=quiz_evaluation_prompt, output_key=\"review\", verbose=True)"
   ]
  },
  {
   "cell_type": "code",
   "execution_count": 15,
   "metadata": {},
   "outputs": [],
   "source": [
    "generate_evaluate_chain=SequentialChain(\n",
    "    chains=[para_chain,quiz_chain, review_chain], \n",
    "    input_variables=[\"disease_name\", \"number\", \"response_json\"],\n",
    "    output_variables=[\"para\", \"quiz\", \"review\"], \n",
    "    verbose=True,\n",
    ")"
   ]
  },
  {
   "cell_type": "markdown",
   "metadata": {},
   "source": [
    "## loading the data for generating the MCQs"
   ]
  },
  {
   "cell_type": "code",
   "execution_count": 16,
   "metadata": {},
   "outputs": [],
   "source": [
    "import pandas as pd\n",
    "import json"
   ]
  },
  {
   "cell_type": "code",
   "execution_count": 17,
   "metadata": {},
   "outputs": [
    {
     "data": {
      "text/plain": [
       "'{\"1\": {\"mcq\": \"multiple choice question\", \"options\": {\"a\": \"choice here\", \"b\": \"choice here\", \"c\": \"choice here\", \"d\": \"choice here\"}, \"correct\": \"correct answer\"}, \"2\": {\"mcq\": \"multiple choice question\", \"options\": {\"a\": \"choice here\", \"b\": \"choice here\", \"c\": \"choice here\", \"d\": \"choice here\"}, \"correct\": \"correct answer\"}, \"3\": {\"mcq\": \"multiple choice question\", \"options\": {\"a\": \"choice here\", \"b\": \"choice here\", \"c\": \"choice here\", \"d\": \"choice here\"}, \"correct\": \"correct answer\"}}'"
      ]
     },
     "execution_count": 17,
     "metadata": {},
     "output_type": "execute_result"
    }
   ],
   "source": [
    "json.dumps(RESPONSE_JSON)"
   ]
  },
  {
   "cell_type": "code",
   "execution_count": 18,
   "metadata": {},
   "outputs": [],
   "source": [
    "MCQ_NUMBERS=5\n",
    "DISEASE_NAME=\"Maleria\""
   ]
  },
  {
   "cell_type": "code",
   "execution_count": 19,
   "metadata": {},
   "outputs": [
    {
     "name": "stderr",
     "output_type": "stream",
     "text": [
      "/Users/anuragsingh/Documents/GitHub/Mr-analyzer/analyzerenv/lib/python3.12/site-packages/langchain_core/_api/deprecation.py:139: LangChainDeprecationWarning: The method `Chain.__call__` was deprecated in langchain 0.1.0 and will be removed in 0.3.0. Use invoke instead.\n",
      "  warn_deprecated(\n"
     ]
    },
    {
     "name": "stdout",
     "output_type": "stream",
     "text": [
      "\n",
      "\n",
      "\u001b[1m> Entering new SequentialChain chain...\u001b[0m\n",
      "\n",
      "\n",
      "\u001b[1m> Entering new LLMChain chain...\u001b[0m\n",
      "Prompt after formatting:\n",
      "\u001b[32;1m\u001b[1;3m\n",
      "You are an expert in medicine, specializing in the human body and various medical fields that affect human health. Your extensive knowledge encompasses a wide range of diseases, treatments, and medications. \n",
      "Your task is to write a unique, 300-word paragraph on Maleria . Paragraph should be well-researched, informative, and distinct from previous ones, highlighting the causes, symptoms, treatments, and any other relevant information about the disease.\n",
      "\u001b[0m\n"
     ]
    },
    {
     "name": "stderr",
     "output_type": "stream",
     "text": [
      "I0000 00:00:1721647495.810325  164832 subchannel.cc:806] subchannel 0x12f3353e0 {address=ipv6:%5B2404:6800:4002:82e::200a%5D:443, args={grpc.client_channel_factory=0x11f26b370, grpc.default_authority=generativelanguage.googleapis.com:443, grpc.dns_enable_srv_queries=1, grpc.http2_scheme=https, grpc.internal.channel_credentials=0x11f26b350, grpc.internal.client_channel_call_destination=0x11e7bba18, grpc.internal.event_engine=0x118c0e4a0, grpc.internal.security_connector=0x11b004680, grpc.internal.subchannel_pool=0x11f270900, grpc.max_receive_message_length=-1, grpc.max_send_message_length=-1, grpc.primary_user_agent=grpc-python/1.65.1, grpc.resource_quota=0x11f26cc80, grpc.server_uri=dns:///generativelanguage.googleapis.com:443}}: connect failed (UNKNOWN:connect: No route to host (65) {created_time:\"2024-07-22T16:54:55.807616+05:30\"}), backing off for 1000 ms\n"
     ]
    },
    {
     "name": "stdout",
     "output_type": "stream",
     "text": [
      "\n",
      "\u001b[1m> Finished chain.\u001b[0m\n",
      "\n",
      "\n",
      "\u001b[1m> Entering new LLMChain chain...\u001b[0m\n",
      "Prompt after formatting:\n",
      "\u001b[32;1m\u001b[1;3m\n",
      "Text:Malaria, a mosquito-borne parasitic infection, remains a formidable public health threat, particularly in tropical and subtropical regions. Caused by Plasmodium parasites, malaria is transmitted through the bite of infected female Anopheles mosquitoes. Symptoms typically manifest within 10-15 days after a bite and may include fever, chills, sweating, headache, muscle pain, nausea, and vomiting. In severe cases, malaria can lead to life-threatening complications such as cerebral malaria, respiratory distress, and organ failure. Diagnosis involves microscopy or rapid diagnostic tests to detect the parasites in the blood. Treatment options include artemisinin-based combination therapies (ACTs), which have significantly reduced malaria-related mortality. Preventive measures include the use of insecticide-treated mosquito nets, insect repellents, and antimalarial prophylaxis for travelers visiting endemic areas. Ongoing research focuses on developing more effective vaccines, diagnostic tools, and treatments to combat malaria and its devastating impact on global health.\n",
      "You are an expert MCQ maker. Given the above text, it is your job to create a quiz of 5 multiple choice questions for the disease Maleria for creating the public awareness. \n",
      "Make sure the questions are not repeated and check all the questions to be conforming the text as well.\n",
      "Make sure to format your response like  RESPONSE_JSON below  and use it as a guide. Ensure to make 5 MCQs\n",
      "### RESPONSE_JSON\n",
      "{\"1\": {\"mcq\": \"multiple choice question\", \"options\": {\"a\": \"choice here\", \"b\": \"choice here\", \"c\": \"choice here\", \"d\": \"choice here\"}, \"correct\": \"correct answer\"}, \"2\": {\"mcq\": \"multiple choice question\", \"options\": {\"a\": \"choice here\", \"b\": \"choice here\", \"c\": \"choice here\", \"d\": \"choice here\"}, \"correct\": \"correct answer\"}, \"3\": {\"mcq\": \"multiple choice question\", \"options\": {\"a\": \"choice here\", \"b\": \"choice here\", \"c\": \"choice here\", \"d\": \"choice here\"}, \"correct\": \"correct answer\"}}\n",
      "\n",
      "\u001b[0m\n",
      "\n",
      "\u001b[1m> Finished chain.\u001b[0m\n",
      "\n",
      "\n",
      "\u001b[1m> Entering new LLMChain chain...\u001b[0m\n",
      "Prompt after formatting:\n",
      "\u001b[32;1m\u001b[1;3m\n",
      "You are an medical expert and health advocates or public health advocates. Given a Multiple Choice Quiz for Maleria disease.You need to evaluate the quality of the question and give a complete analysis of the quiz. Only use at max 50 words for quality analysis. \n",
      "if the quiz is not at per with the quality and awreness and helpfull related to the public,update the quiz questions which needs to be changed and change the tone such that it perfectly fits the public awareness and health\n",
      "Quiz_MCQs:\n",
      "### RESPONSE_JSON\n",
      "{\"1\": {\"mcq\": \"What is the primary mode of transmission for malaria?\", \"options\": {\"a\": \"Contact with contaminated water\", \"b\": \"Bite of infected mosquitoes\", \"c\": \"Inhalation of spores\", \"d\": \"Ingestion of contaminated food\"}, \"correct\": \"b\"}, \"2\": {\"mcq\": \"Which of the following is a common symptom of malaria?\", \"options\": {\"a\": \"Diarrhea\", \"b\": \"Muscle pain\", \"c\": \"Skin rash\", \"d\": \"Sneezing\"}, \"correct\": \"b\"}, \"3\": {\"mcq\": \"What is the recommended first-line treatment for malaria?\", \"options\": {\"a\": \"Quinine\", \"b\": \"Chloroquine\", \"c\": \"Artemisinin-based combination therapies (ACTs)\", \"d\": \"Tetracycline\"}, \"correct\": \"c\"}, \"4\": {\"mcq\": \"Which of the following is a preventive measure against malaria?\", \"options\": {\"a\": \"Vaccination\", \"b\": \"Use of insecticide-treated mosquito nets\", \"c\": \"Regular blood transfusions\", \"d\": \"Avoidance of travel to endemic areas\"}, \"correct\": \"b\"}, \"5\": {\"mcq\": \"What is a potential life-threatening complication of severe malaria?\", \"options\": {\"a\": \"Anemia\", \"b\": \"Cerebral malaria\", \"c\": \"Pneumonia\", \"d\": \"Gastrointestinal bleeding\"}, \"correct\": \"b\"}}\n",
      "\n",
      "Check from an medical expert and health advocates or public health advocates of the above quiz:\n",
      "\u001b[0m\n",
      "\n",
      "\u001b[1m> Finished chain.\u001b[0m\n",
      "\n",
      "\u001b[1m> Finished chain.\u001b[0m\n"
     ]
    }
   ],
   "source": [
    "response=generate_evaluate_chain(\n",
    "    {\n",
    "        \"number\":MCQ_NUMBERS,\n",
    "        \"disease_name\":DISEASE_NAME,\n",
    "        \"response_json\":json.dumps(RESPONSE_JSON)\n",
    "    }\n",
    ")"
   ]
  },
  {
   "cell_type": "code",
   "execution_count": 20,
   "metadata": {},
   "outputs": [
    {
     "data": {
      "text/plain": [
       "{'number': 5,\n",
       " 'disease_name': 'Maleria',\n",
       " 'response_json': '{\"1\": {\"mcq\": \"multiple choice question\", \"options\": {\"a\": \"choice here\", \"b\": \"choice here\", \"c\": \"choice here\", \"d\": \"choice here\"}, \"correct\": \"correct answer\"}, \"2\": {\"mcq\": \"multiple choice question\", \"options\": {\"a\": \"choice here\", \"b\": \"choice here\", \"c\": \"choice here\", \"d\": \"choice here\"}, \"correct\": \"correct answer\"}, \"3\": {\"mcq\": \"multiple choice question\", \"options\": {\"a\": \"choice here\", \"b\": \"choice here\", \"c\": \"choice here\", \"d\": \"choice here\"}, \"correct\": \"correct answer\"}}',\n",
       " 'para': 'Malaria, a mosquito-borne parasitic infection, remains a formidable public health threat, particularly in tropical and subtropical regions. Caused by Plasmodium parasites, malaria is transmitted through the bite of infected female Anopheles mosquitoes. Symptoms typically manifest within 10-15 days after a bite and may include fever, chills, sweating, headache, muscle pain, nausea, and vomiting. In severe cases, malaria can lead to life-threatening complications such as cerebral malaria, respiratory distress, and organ failure. Diagnosis involves microscopy or rapid diagnostic tests to detect the parasites in the blood. Treatment options include artemisinin-based combination therapies (ACTs), which have significantly reduced malaria-related mortality. Preventive measures include the use of insecticide-treated mosquito nets, insect repellents, and antimalarial prophylaxis for travelers visiting endemic areas. Ongoing research focuses on developing more effective vaccines, diagnostic tools, and treatments to combat malaria and its devastating impact on global health.',\n",
       " 'quiz': '### RESPONSE_JSON\\n{\"1\": {\"mcq\": \"What is the primary mode of transmission for malaria?\", \"options\": {\"a\": \"Contact with contaminated water\", \"b\": \"Bite of infected mosquitoes\", \"c\": \"Inhalation of spores\", \"d\": \"Ingestion of contaminated food\"}, \"correct\": \"b\"}, \"2\": {\"mcq\": \"Which of the following is a common symptom of malaria?\", \"options\": {\"a\": \"Diarrhea\", \"b\": \"Muscle pain\", \"c\": \"Skin rash\", \"d\": \"Sneezing\"}, \"correct\": \"b\"}, \"3\": {\"mcq\": \"What is the recommended first-line treatment for malaria?\", \"options\": {\"a\": \"Quinine\", \"b\": \"Chloroquine\", \"c\": \"Artemisinin-based combination therapies (ACTs)\", \"d\": \"Tetracycline\"}, \"correct\": \"c\"}, \"4\": {\"mcq\": \"Which of the following is a preventive measure against malaria?\", \"options\": {\"a\": \"Vaccination\", \"b\": \"Use of insecticide-treated mosquito nets\", \"c\": \"Regular blood transfusions\", \"d\": \"Avoidance of travel to endemic areas\"}, \"correct\": \"b\"}, \"5\": {\"mcq\": \"What is a potential life-threatening complication of severe malaria?\", \"options\": {\"a\": \"Anemia\", \"b\": \"Cerebral malaria\", \"c\": \"Pneumonia\", \"d\": \"Gastrointestinal bleeding\"}, \"correct\": \"b\"}}',\n",
       " 'review': '**Quality Analysis:**\\n\\nThe quiz covers essential aspects of malaria, providing a good foundation for public awareness. However, some questions could be improved to enhance clarity and relevance.\\n\\n**Updated Quiz Questions:**\\n\\n1. How is malaria typically transmitted to humans?\\n2. Which of the following is a key symptom of malaria?\\n3. What is the most effective treatment for uncomplicated malaria?\\n4. How can you protect yourself from malaria?\\n5. What is a serious complication that can result from severe malaria?'}"
      ]
     },
     "execution_count": 20,
     "metadata": {},
     "output_type": "execute_result"
    }
   ],
   "source": [
    "response"
   ]
  },
  {
   "cell_type": "code",
   "execution_count": 21,
   "metadata": {},
   "outputs": [],
   "source": [
    "new_quiz_df=pd.DataFrame([response])"
   ]
  },
  {
   "cell_type": "code",
   "execution_count": 22,
   "metadata": {},
   "outputs": [
    {
     "data": {
      "text/html": [
       "<div>\n",
       "<style scoped>\n",
       "    .dataframe tbody tr th:only-of-type {\n",
       "        vertical-align: middle;\n",
       "    }\n",
       "\n",
       "    .dataframe tbody tr th {\n",
       "        vertical-align: top;\n",
       "    }\n",
       "\n",
       "    .dataframe thead th {\n",
       "        text-align: right;\n",
       "    }\n",
       "</style>\n",
       "<table border=\"1\" class=\"dataframe\">\n",
       "  <thead>\n",
       "    <tr style=\"text-align: right;\">\n",
       "      <th></th>\n",
       "      <th>number</th>\n",
       "      <th>disease_name</th>\n",
       "      <th>response_json</th>\n",
       "      <th>para</th>\n",
       "      <th>quiz</th>\n",
       "      <th>review</th>\n",
       "    </tr>\n",
       "  </thead>\n",
       "  <tbody>\n",
       "    <tr>\n",
       "      <th>0</th>\n",
       "      <td>5</td>\n",
       "      <td>Maleria</td>\n",
       "      <td>{\"1\": {\"mcq\": \"multiple choice question\", \"opt...</td>\n",
       "      <td>Malaria, a mosquito-borne parasitic infection,...</td>\n",
       "      <td>### RESPONSE_JSON\\n{\"1\": {\"mcq\": \"What is the ...</td>\n",
       "      <td>**Quality Analysis:**\\n\\nThe quiz covers essen...</td>\n",
       "    </tr>\n",
       "  </tbody>\n",
       "</table>\n",
       "</div>"
      ],
      "text/plain": [
       "   number disease_name                                      response_json  \\\n",
       "0       5      Maleria  {\"1\": {\"mcq\": \"multiple choice question\", \"opt...   \n",
       "\n",
       "                                                para  \\\n",
       "0  Malaria, a mosquito-borne parasitic infection,...   \n",
       "\n",
       "                                                quiz  \\\n",
       "0  ### RESPONSE_JSON\\n{\"1\": {\"mcq\": \"What is the ...   \n",
       "\n",
       "                                              review  \n",
       "0  **Quality Analysis:**\\n\\nThe quiz covers essen...  "
      ]
     },
     "execution_count": 22,
     "metadata": {},
     "output_type": "execute_result"
    }
   ],
   "source": [
    "new_quiz_df"
   ]
  },
  {
   "cell_type": "code",
   "execution_count": 23,
   "metadata": {},
   "outputs": [],
   "source": [
    "para_json=new_quiz_df.loc[0,'para'].strip()"
   ]
  },
  {
   "cell_type": "code",
   "execution_count": 24,
   "metadata": {},
   "outputs": [
    {
     "data": {
      "text/plain": [
       "'Malaria, a mosquito-borne parasitic infection, remains a formidable public health threat, particularly in tropical and subtropical regions. Caused by Plasmodium parasites, malaria is transmitted through the bite of infected female Anopheles mosquitoes. Symptoms typically manifest within 10-15 days after a bite and may include fever, chills, sweating, headache, muscle pain, nausea, and vomiting. In severe cases, malaria can lead to life-threatening complications such as cerebral malaria, respiratory distress, and organ failure. Diagnosis involves microscopy or rapid diagnostic tests to detect the parasites in the blood. Treatment options include artemisinin-based combination therapies (ACTs), which have significantly reduced malaria-related mortality. Preventive measures include the use of insecticide-treated mosquito nets, insect repellents, and antimalarial prophylaxis for travelers visiting endemic areas. Ongoing research focuses on developing more effective vaccines, diagnostic tools, and treatments to combat malaria and its devastating impact on global health.'"
      ]
     },
     "execution_count": 24,
     "metadata": {},
     "output_type": "execute_result"
    }
   ],
   "source": [
    "para_json"
   ]
  },
  {
   "cell_type": "code",
   "execution_count": 25,
   "metadata": {},
   "outputs": [
    {
     "name": "stdout",
     "output_type": "stream",
     "text": [
      "Question 1: What is the primary mode of transmission for malaria?\n",
      "  a: Contact with contaminated water\n",
      "  b: Bite of infected mosquitoes\n",
      "  c: Inhalation of spores\n",
      "  d: Ingestion of contaminated food\n",
      "Correct Answer: b\n",
      "\n",
      "Question 2: Which of the following is a common symptom of malaria?\n",
      "  a: Diarrhea\n",
      "  b: Muscle pain\n",
      "  c: Skin rash\n",
      "  d: Sneezing\n",
      "Correct Answer: b\n",
      "\n",
      "Question 3: What is the recommended first-line treatment for malaria?\n",
      "  a: Quinine\n",
      "  b: Chloroquine\n",
      "  c: Artemisinin-based combination therapies (ACTs)\n",
      "  d: Tetracycline\n",
      "Correct Answer: c\n",
      "\n",
      "Question 4: Which of the following is a preventive measure against malaria?\n",
      "  a: Vaccination\n",
      "  b: Use of insecticide-treated mosquito nets\n",
      "  c: Regular blood transfusions\n",
      "  d: Avoidance of travel to endemic areas\n",
      "Correct Answer: b\n",
      "\n",
      "Question 5: What is a potential life-threatening complication of severe malaria?\n",
      "  a: Anemia\n",
      "  b: Cerebral malaria\n",
      "  c: Pneumonia\n",
      "  d: Gastrointestinal bleeding\n",
      "Correct Answer: b\n",
      "\n"
     ]
    }
   ],
   "source": [
    "quiz_json = new_quiz_df.loc[0, 'quiz'].split('### RESPONSE_JSON\\n')[1]\n",
    "quiz_data = json.loads(quiz_json)\n",
    "\n",
    "# Display the quiz questions\n",
    "for key, value in quiz_data.items():\n",
    "    print(f\"Question {key}: {value['mcq']}\")\n",
    "    for option_key, option_value in value['options'].items():\n",
    "        print(f\"  {option_key}: {option_value}\")\n",
    "    print(f\"Correct Answer: {value['correct']}\\n\")"
   ]
  },
  {
   "cell_type": "code",
   "execution_count": 26,
   "metadata": {},
   "outputs": [],
   "source": [
    "quiz_list = []\n",
    "for key, value in quiz_data.items():\n",
    "    question = value['mcq']\n",
    "    options = value['options']\n",
    "    correct_ans = value['correct']\n",
    "    row = {\n",
    "        'question': question,\n",
    "        'optiona': options.get('a', ''),\n",
    "        'optionb': options.get('b', ''),\n",
    "        'optionc': options.get('c', ''),\n",
    "        'optiond': options.get('d', ''),\n",
    "        'correctans': correct_ans\n",
    "    }\n",
    "    quiz_list.append(row)\n",
    "\n",
    "# Convert to DataFrame\n",
    "df_quiz = pd.DataFrame(quiz_list)\n",
    "\n",
    "# Save to CSV\n",
    "df_quiz.to_csv('quiz_questions.csv', index=False)"
   ]
  }
 ],
 "metadata": {
  "kernelspec": {
   "display_name": "analyzerenv",
   "language": "python",
   "name": "python3"
  },
  "language_info": {
   "codemirror_mode": {
    "name": "ipython",
    "version": 3
   },
   "file_extension": ".py",
   "mimetype": "text/x-python",
   "name": "python",
   "nbconvert_exporter": "python",
   "pygments_lexer": "ipython3",
   "version": "3.12.4"
  }
 },
 "nbformat": 4,
 "nbformat_minor": 2
}
