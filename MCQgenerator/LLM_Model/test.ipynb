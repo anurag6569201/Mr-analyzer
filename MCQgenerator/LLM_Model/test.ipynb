{
 "cells": [
  {
   "cell_type": "code",
   "execution_count": 73,
   "metadata": {},
   "outputs": [],
   "source": [
    "# pip install langchain-google-genai \n",
    "# pip install langchain"
   ]
  },
  {
   "cell_type": "code",
   "execution_count": 74,
   "metadata": {},
   "outputs": [],
   "source": [
    "from langchain.prompts import PromptTemplate\n",
    "from langchain.chains import LLMChain\n",
    "from langchain.chains import SequentialChain"
   ]
  },
  {
   "cell_type": "code",
   "execution_count": 75,
   "metadata": {},
   "outputs": [],
   "source": [
    "import os\n",
    "from dotenv import load_dotenv\n",
    "\n",
    "load_dotenv()\n",
    "google_gemini_api=os.getenv(\"GOOGLE_API_KEY\")"
   ]
  },
  {
   "cell_type": "code",
   "execution_count": 76,
   "metadata": {},
   "outputs": [
    {
     "name": "stderr",
     "output_type": "stream",
     "text": [
      "I0000 00:00:1721811978.679280  120000 check_gcp_environment_no_op.cc:29] ALTS: Platforms other than Linux and Windows are not supported\n",
      "I0000 00:00:1721811978.680162  120000 check_gcp_environment_no_op.cc:29] ALTS: Platforms other than Linux and Windows are not supported\n"
     ]
    }
   ],
   "source": [
    "from langchain_google_genai import ChatGoogleGenerativeAI\n",
    "llm_model=ChatGoogleGenerativeAI(model=\"gemini-pro\",google_api_key=google_gemini_api,verbose=False)"
   ]
  },
  {
   "cell_type": "code",
   "execution_count": 77,
   "metadata": {},
   "outputs": [],
   "source": [
    "RESPONSE_JSON = {\n",
    "    \"1\": {\n",
    "        \"mcq\": \"multiple choice question\",\n",
    "        \"options\": {\n",
    "            \"a\": \"choice here\",\n",
    "            \"b\": \"choice here\",\n",
    "            \"c\": \"choice here\",\n",
    "            \"d\": \"choice here\",\n",
    "        },\n",
    "        \"correct\": \"correct answer\",\n",
    "    },\n",
    "    \"2\": {\n",
    "        \"mcq\": \"multiple choice question\",\n",
    "        \"options\": {\n",
    "            \"a\": \"choice here\",\n",
    "            \"b\": \"choice here\",\n",
    "            \"c\": \"choice here\",\n",
    "            \"d\": \"choice here\",\n",
    "        },\n",
    "        \"correct\": \"correct answer\",\n",
    "    },\n",
    "    \"3\": {\n",
    "        \"mcq\": \"multiple choice question\",\n",
    "        \"options\": {\n",
    "            \"a\": \"choice here\",\n",
    "            \"b\": \"choice here\",\n",
    "            \"c\": \"choice here\",\n",
    "            \"d\": \"choice here\",\n",
    "        },\n",
    "        \"correct\": \"correct answer\",\n",
    "    },\n",
    "}"
   ]
  },
  {
   "cell_type": "code",
   "execution_count": 78,
   "metadata": {},
   "outputs": [],
   "source": [
    "# TEMPLATE0: Generate a well-researched paragraph on a disease\n",
    "TEMPLATE0=\"\"\"\n",
    "You are an expert in medicine, specializing in the human body and various medical fields that affect human health. Your extensive knowledge encompasses a wide range of diseases, treatments, and medications. \n",
    "Your task is to write a unique, 300-word paragraph on {disease_name} . Paragraph should be well-researched, informative, and distinct from previous ones, highlighting the causes, symptoms, treatments, and any other relevant information about the disease.\n",
    "\"\"\""
   ]
  },
  {
   "cell_type": "code",
   "execution_count": 79,
   "metadata": {},
   "outputs": [],
   "source": [
    "para_generation_prompt = PromptTemplate(\n",
    "    input_variables=[\"disease_name\"],\n",
    "    template=TEMPLATE0\n",
    ")"
   ]
  },
  {
   "cell_type": "code",
   "execution_count": 80,
   "metadata": {},
   "outputs": [],
   "source": [
    "para_chain=LLMChain(llm=llm_model, prompt=para_generation_prompt, output_key=\"para\", verbose=False)"
   ]
  },
  {
   "cell_type": "code",
   "execution_count": 81,
   "metadata": {},
   "outputs": [],
   "source": [
    "TEMPLATE1=\"\"\"\n",
    "Text:{para}\n",
    "You are an expert MCQ maker. Given the above text, it is your job to \\\n",
    "create a quiz of {number} multiple choice questions for the disease {disease_name} for creating the public awareness. \n",
    "Make sure the questions are not repeated and check all the questions to be conforming the text as well.\n",
    "Make sure to format your response like  RESPONSE_JSON below  and use it as a guide. \\\n",
    "Ensure to make {number} MCQs\n",
    "### RESPONSE_JSON\n",
    "{response_json}\n",
    "\n",
    "\"\"\""
   ]
  },
  {
   "cell_type": "code",
   "execution_count": 82,
   "metadata": {},
   "outputs": [],
   "source": [
    "quiz_generation_prompt = PromptTemplate(\n",
    "    input_variables=[\"para\", \"number\", \"disease_name\", \"response_json\"],\n",
    "    template=TEMPLATE1\n",
    ")"
   ]
  },
  {
   "cell_type": "code",
   "execution_count": 83,
   "metadata": {},
   "outputs": [],
   "source": [
    "quiz_chain=LLMChain(llm=llm_model, prompt=quiz_generation_prompt, output_key=\"quiz\", verbose=True)"
   ]
  },
  {
   "cell_type": "code",
   "execution_count": 84,
   "metadata": {},
   "outputs": [],
   "source": [
    "TEMPLATE2=\"\"\"\n",
    "You are an medical expert and health advocates or public health advocates. Given a Multiple Choice Quiz for {disease_name} disease.\\\n",
    "You need to evaluate the quality of the question and give a complete analysis of the quiz. Only use at max 50 words for quality analysis. \n",
    "if the quiz is not at per with the quality and awreness and helpfull related to the public,\\\n",
    "update the quiz questions which needs to be changed and change the tone such that it perfectly fits the public awareness and health\n",
    "Quiz_MCQs:\n",
    "{quiz}\n",
    "\n",
    "Check from an medical expert and health advocates or public health advocates of the above quiz:\n",
    "\"\"\""
   ]
  },
  {
   "cell_type": "code",
   "execution_count": 85,
   "metadata": {},
   "outputs": [],
   "source": [
    "quiz_evaluation_prompt=PromptTemplate(input_variables=[\"disease_name\", \"quiz\"], template=TEMPLATE2)"
   ]
  },
  {
   "cell_type": "code",
   "execution_count": 86,
   "metadata": {},
   "outputs": [],
   "source": [
    "review_chain=LLMChain(llm=llm_model, prompt=quiz_evaluation_prompt, output_key=\"review\")"
   ]
  },
  {
   "cell_type": "code",
   "execution_count": 87,
   "metadata": {},
   "outputs": [],
   "source": [
    "generate_evaluate_chain=SequentialChain(\n",
    "    chains=[para_chain,quiz_chain, review_chain], \n",
    "    input_variables=[\"disease_name\", \"number\", \"response_json\"],\n",
    "    output_variables=[\"para\", \"quiz\", \"review\"], \n",
    ")"
   ]
  },
  {
   "cell_type": "markdown",
   "metadata": {},
   "source": [
    "## loading the data for generating the MCQs"
   ]
  },
  {
   "cell_type": "code",
   "execution_count": 88,
   "metadata": {},
   "outputs": [],
   "source": [
    "import pandas as pd\n",
    "import json"
   ]
  },
  {
   "cell_type": "code",
   "execution_count": 89,
   "metadata": {},
   "outputs": [
    {
     "data": {
      "text/plain": [
       "'{\"1\": {\"mcq\": \"multiple choice question\", \"options\": {\"a\": \"choice here\", \"b\": \"choice here\", \"c\": \"choice here\", \"d\": \"choice here\"}, \"correct\": \"correct answer\"}, \"2\": {\"mcq\": \"multiple choice question\", \"options\": {\"a\": \"choice here\", \"b\": \"choice here\", \"c\": \"choice here\", \"d\": \"choice here\"}, \"correct\": \"correct answer\"}, \"3\": {\"mcq\": \"multiple choice question\", \"options\": {\"a\": \"choice here\", \"b\": \"choice here\", \"c\": \"choice here\", \"d\": \"choice here\"}, \"correct\": \"correct answer\"}}'"
      ]
     },
     "execution_count": 89,
     "metadata": {},
     "output_type": "execute_result"
    }
   ],
   "source": [
    "json.dumps(RESPONSE_JSON)"
   ]
  },
  {
   "cell_type": "code",
   "execution_count": 90,
   "metadata": {},
   "outputs": [],
   "source": [
    "MCQ_NUMBERS=5\n",
    "DISEASE_NAME=\"Maleria\""
   ]
  },
  {
   "cell_type": "code",
   "execution_count": 91,
   "metadata": {},
   "outputs": [
    {
     "name": "stderr",
     "output_type": "stream",
     "text": [
      "I0000 00:00:1721811984.197024  120084 subchannel.cc:806] subchannel 0x102c7cd60 {address=ipv6:%5B2404:6800:4002:826::200a%5D:443, args={grpc.client_channel_factory=0x104748b70, grpc.default_authority=generativelanguage.googleapis.com:443, grpc.dns_enable_srv_queries=1, grpc.http2_scheme=https, grpc.internal.channel_credentials=0x10fe07800, grpc.internal.client_channel_call_destination=0x10df4ba18, grpc.internal.event_engine=0x102c632b0, grpc.internal.security_connector=0x102c6a0b0, grpc.internal.subchannel_pool=0x10ca87d90, grpc.max_receive_message_length=-1, grpc.max_send_message_length=-1, grpc.primary_user_agent=grpc-python/1.65.1, grpc.resource_quota=0x10ca83f40, grpc.server_uri=dns:///generativelanguage.googleapis.com:443}}: connect failed (UNKNOWN:connect: No route to host (65) {created_time:\"2024-07-24T14:36:24.196935+05:30\"}), backing off for 1000 ms\n"
     ]
    },
    {
     "name": "stdout",
     "output_type": "stream",
     "text": [
      "\n",
      "\n",
      "\u001b[1m> Entering new LLMChain chain...\u001b[0m\n",
      "Prompt after formatting:\n",
      "\u001b[32;1m\u001b[1;3m\n",
      "Text:Malaria, a deadly parasitic disease transmitted by infected female Anopheles mosquitoes, poses a significant global health threat. The parasite, Plasmodium, enters the human body and invades red blood cells, causing a range of symptoms, including fever, chills, sweating, headache, and muscle pain. If left untreated, malaria can progress to severe complications, such as cerebral malaria, which can lead to coma and death. The disease is prevalent in tropical and subtropical regions, particularly in Africa, Southeast Asia, and Latin America, and disproportionately affects vulnerable populations, including pregnant women, children, and the immunocompromised. Treatment typically involves antimalarial medications, such as artemisinin-based combination therapies, which have significantly improved survival rates. However, resistance to antimalarial drugs remains a challenge, and ongoing research focuses on developing new and effective therapies. Preventive measures, including the use of insecticide-treated mosquito nets, indoor residual spraying, and antimalarial prophylaxis, are crucial for reducing transmission and protecting individuals at risk.\n",
      "You are an expert MCQ maker. Given the above text, it is your job to create a quiz of 5 multiple choice questions for the disease Maleria for creating the public awareness. \n",
      "Make sure the questions are not repeated and check all the questions to be conforming the text as well.\n",
      "Make sure to format your response like  RESPONSE_JSON below  and use it as a guide. Ensure to make 5 MCQs\n",
      "### RESPONSE_JSON\n",
      "{\"1\": {\"mcq\": \"multiple choice question\", \"options\": {\"a\": \"choice here\", \"b\": \"choice here\", \"c\": \"choice here\", \"d\": \"choice here\"}, \"correct\": \"correct answer\"}, \"2\": {\"mcq\": \"multiple choice question\", \"options\": {\"a\": \"choice here\", \"b\": \"choice here\", \"c\": \"choice here\", \"d\": \"choice here\"}, \"correct\": \"correct answer\"}, \"3\": {\"mcq\": \"multiple choice question\", \"options\": {\"a\": \"choice here\", \"b\": \"choice here\", \"c\": \"choice here\", \"d\": \"choice here\"}, \"correct\": \"correct answer\"}}\n",
      "\n",
      "\u001b[0m\n",
      "\n",
      "\u001b[1m> Finished chain.\u001b[0m\n"
     ]
    }
   ],
   "source": [
    "response=generate_evaluate_chain(\n",
    "    {\n",
    "        \"number\":MCQ_NUMBERS,\n",
    "        \"disease_name\":DISEASE_NAME,\n",
    "        \"response_json\":json.dumps(RESPONSE_JSON)\n",
    "    }\n",
    ")"
   ]
  },
  {
   "cell_type": "code",
   "execution_count": 92,
   "metadata": {},
   "outputs": [
    {
     "data": {
      "text/plain": [
       "{'number': 5,\n",
       " 'disease_name': 'Maleria',\n",
       " 'response_json': '{\"1\": {\"mcq\": \"multiple choice question\", \"options\": {\"a\": \"choice here\", \"b\": \"choice here\", \"c\": \"choice here\", \"d\": \"choice here\"}, \"correct\": \"correct answer\"}, \"2\": {\"mcq\": \"multiple choice question\", \"options\": {\"a\": \"choice here\", \"b\": \"choice here\", \"c\": \"choice here\", \"d\": \"choice here\"}, \"correct\": \"correct answer\"}, \"3\": {\"mcq\": \"multiple choice question\", \"options\": {\"a\": \"choice here\", \"b\": \"choice here\", \"c\": \"choice here\", \"d\": \"choice here\"}, \"correct\": \"correct answer\"}}',\n",
       " 'para': 'Malaria, a deadly parasitic disease transmitted by infected female Anopheles mosquitoes, poses a significant global health threat. The parasite, Plasmodium, enters the human body and invades red blood cells, causing a range of symptoms, including fever, chills, sweating, headache, and muscle pain. If left untreated, malaria can progress to severe complications, such as cerebral malaria, which can lead to coma and death. The disease is prevalent in tropical and subtropical regions, particularly in Africa, Southeast Asia, and Latin America, and disproportionately affects vulnerable populations, including pregnant women, children, and the immunocompromised. Treatment typically involves antimalarial medications, such as artemisinin-based combination therapies, which have significantly improved survival rates. However, resistance to antimalarial drugs remains a challenge, and ongoing research focuses on developing new and effective therapies. Preventive measures, including the use of insecticide-treated mosquito nets, indoor residual spraying, and antimalarial prophylaxis, are crucial for reducing transmission and protecting individuals at risk.',\n",
       " 'quiz': '### RESPONSE_JSON\\n{\"1\": {\"mcq\": \"Which of the following is NOT a symptom of malaria?\", \"options\": {\"a\": \"Fever\", \"b\": \"Vomiting\", \"c\": \"Headache\", \"d\": \"Sweating\"}, \"correct\": \"b\"}, \"2\": {\"mcq\": \"What is the primary mode of transmission for malaria?\", \"options\": {\"a\": \"Contact with infected blood\", \"b\": \"Mosquito bites\", \"c\": \"Contaminated water\", \"d\": \"Inhalation of spores\"}, \"correct\": \"b\"}, \"3\": {\"mcq\": \"Which of the following is a preventive measure against malaria?\", \"options\": {\"a\": \"Use of mosquito nets\", \"b\": \"Vaccination\", \"c\": \"Taking antibiotics\", \"d\": \"None of the above\"}, \"correct\": \"a\"}, \"4\": {\"mcq\": \"What is the most prevalent type of malaria parasite?\", \"options\": {\"a\": \"Plasmodium falciparum\", \"b\": \"Plasmodium vivax\", \"c\": \"Plasmodium malariae\", \"d\": \"Plasmodium ovale\"}, \"correct\": \"a\"}, \"5\": {\"mcq\": \"Which region of the world is most affected by malaria?\", \"options\": {\"a\": \"North America\", \"b\": \"Europe\", \"c\": \"Tropical and subtropical regions\", \"d\": \"Antarctica\"}, \"correct\": \"c\"}}',\n",
       " 'review': '**Quality Analysis:**\\n\\nThe quiz covers essential aspects of malaria, but some questions could be improved for clarity and public awareness.\\n\\n**Updated Quiz Questions:**\\n\\n1. **Which of the following is a common symptom of malaria?**\\n   - (a) Fever\\n   - (b) Fatigue\\n   - (c) Chills\\n   - (d) All of the above\\n\\n2. **How is malaria primarily transmitted?**\\n   - (a) Through mosquito bites\\n   - (b) By drinking contaminated water\\n   - (c) By inhaling infected spores\\n   - (d) Through direct contact with an infected person\\n\\n3. **What is a simple yet effective way to prevent malaria?**\\n   - (a) Using mosquito nets while sleeping\\n   - (b) Taking antimalarial medications\\n   - (c) Getting vaccinated\\n   - (d) Wearing long sleeves and pants\\n\\n4. **Which type of malaria parasite is responsible for the most severe form of the disease?**\\n   - (a) Plasmodium falciparum\\n   - (b) Plasmodium vivax\\n   - (c) Plasmodium ovale\\n   - (d) Plasmodium malariae\\n\\n5. **In which part of the world is malaria most prevalent?**\\n   - (a) Developed countries\\n   - (b) Tropical and subtropical regions\\n   - (c) Polar regions\\n   - (d) Arid regions\\n\\n**Tone:**\\n\\nThe updated quiz questions use clear and concise language, making them more accessible to the public. The focus on prevention and common symptoms helps raise awareness about key aspects of malaria.'}"
      ]
     },
     "execution_count": 92,
     "metadata": {},
     "output_type": "execute_result"
    }
   ],
   "source": [
    "response"
   ]
  },
  {
   "cell_type": "code",
   "execution_count": 93,
   "metadata": {},
   "outputs": [],
   "source": [
    "new_quiz_df=pd.DataFrame([response])"
   ]
  },
  {
   "cell_type": "code",
   "execution_count": 94,
   "metadata": {},
   "outputs": [
    {
     "data": {
      "text/html": [
       "<div>\n",
       "<style scoped>\n",
       "    .dataframe tbody tr th:only-of-type {\n",
       "        vertical-align: middle;\n",
       "    }\n",
       "\n",
       "    .dataframe tbody tr th {\n",
       "        vertical-align: top;\n",
       "    }\n",
       "\n",
       "    .dataframe thead th {\n",
       "        text-align: right;\n",
       "    }\n",
       "</style>\n",
       "<table border=\"1\" class=\"dataframe\">\n",
       "  <thead>\n",
       "    <tr style=\"text-align: right;\">\n",
       "      <th></th>\n",
       "      <th>number</th>\n",
       "      <th>disease_name</th>\n",
       "      <th>response_json</th>\n",
       "      <th>para</th>\n",
       "      <th>quiz</th>\n",
       "      <th>review</th>\n",
       "    </tr>\n",
       "  </thead>\n",
       "  <tbody>\n",
       "    <tr>\n",
       "      <th>0</th>\n",
       "      <td>5</td>\n",
       "      <td>Maleria</td>\n",
       "      <td>{\"1\": {\"mcq\": \"multiple choice question\", \"opt...</td>\n",
       "      <td>Malaria, a deadly parasitic disease transmitte...</td>\n",
       "      <td>### RESPONSE_JSON\\n{\"1\": {\"mcq\": \"Which of the...</td>\n",
       "      <td>**Quality Analysis:**\\n\\nThe quiz covers essen...</td>\n",
       "    </tr>\n",
       "  </tbody>\n",
       "</table>\n",
       "</div>"
      ],
      "text/plain": [
       "   number disease_name                                      response_json  \\\n",
       "0       5      Maleria  {\"1\": {\"mcq\": \"multiple choice question\", \"opt...   \n",
       "\n",
       "                                                para  \\\n",
       "0  Malaria, a deadly parasitic disease transmitte...   \n",
       "\n",
       "                                                quiz  \\\n",
       "0  ### RESPONSE_JSON\\n{\"1\": {\"mcq\": \"Which of the...   \n",
       "\n",
       "                                              review  \n",
       "0  **Quality Analysis:**\\n\\nThe quiz covers essen...  "
      ]
     },
     "execution_count": 94,
     "metadata": {},
     "output_type": "execute_result"
    }
   ],
   "source": [
    "new_quiz_df"
   ]
  },
  {
   "cell_type": "code",
   "execution_count": 95,
   "metadata": {},
   "outputs": [],
   "source": [
    "para_json=new_quiz_df.loc[0,'para'].strip()"
   ]
  },
  {
   "cell_type": "code",
   "execution_count": 96,
   "metadata": {},
   "outputs": [
    {
     "data": {
      "text/plain": [
       "'Malaria, a deadly parasitic disease transmitted by infected female Anopheles mosquitoes, poses a significant global health threat. The parasite, Plasmodium, enters the human body and invades red blood cells, causing a range of symptoms, including fever, chills, sweating, headache, and muscle pain. If left untreated, malaria can progress to severe complications, such as cerebral malaria, which can lead to coma and death. The disease is prevalent in tropical and subtropical regions, particularly in Africa, Southeast Asia, and Latin America, and disproportionately affects vulnerable populations, including pregnant women, children, and the immunocompromised. Treatment typically involves antimalarial medications, such as artemisinin-based combination therapies, which have significantly improved survival rates. However, resistance to antimalarial drugs remains a challenge, and ongoing research focuses on developing new and effective therapies. Preventive measures, including the use of insecticide-treated mosquito nets, indoor residual spraying, and antimalarial prophylaxis, are crucial for reducing transmission and protecting individuals at risk.'"
      ]
     },
     "execution_count": 96,
     "metadata": {},
     "output_type": "execute_result"
    }
   ],
   "source": [
    "para_json"
   ]
  },
  {
   "cell_type": "code",
   "execution_count": 97,
   "metadata": {},
   "outputs": [
    {
     "name": "stdout",
     "output_type": "stream",
     "text": [
      "Question 1: Which of the following is NOT a symptom of malaria?\n",
      "  a: Fever\n",
      "  b: Vomiting\n",
      "  c: Headache\n",
      "  d: Sweating\n",
      "Correct Answer: b\n",
      "\n",
      "Question 2: What is the primary mode of transmission for malaria?\n",
      "  a: Contact with infected blood\n",
      "  b: Mosquito bites\n",
      "  c: Contaminated water\n",
      "  d: Inhalation of spores\n",
      "Correct Answer: b\n",
      "\n",
      "Question 3: Which of the following is a preventive measure against malaria?\n",
      "  a: Use of mosquito nets\n",
      "  b: Vaccination\n",
      "  c: Taking antibiotics\n",
      "  d: None of the above\n",
      "Correct Answer: a\n",
      "\n",
      "Question 4: What is the most prevalent type of malaria parasite?\n",
      "  a: Plasmodium falciparum\n",
      "  b: Plasmodium vivax\n",
      "  c: Plasmodium malariae\n",
      "  d: Plasmodium ovale\n",
      "Correct Answer: a\n",
      "\n",
      "Question 5: Which region of the world is most affected by malaria?\n",
      "  a: North America\n",
      "  b: Europe\n",
      "  c: Tropical and subtropical regions\n",
      "  d: Antarctica\n",
      "Correct Answer: c\n",
      "\n"
     ]
    }
   ],
   "source": [
    "quiz_json = new_quiz_df.loc[0, 'quiz'].split('### RESPONSE_JSON\\n')[1]\n",
    "quiz_data = json.loads(quiz_json)\n",
    "\n",
    "# Display the quiz questions\n",
    "for key, value in quiz_data.items():\n",
    "    print(f\"Question {key}: {value['mcq']}\")\n",
    "    for option_key, option_value in value['options'].items():\n",
    "        print(f\"  {option_key}: {option_value}\")\n",
    "    print(f\"Correct Answer: {value['correct']}\\n\")"
   ]
  },
  {
   "cell_type": "code",
   "execution_count": 98,
   "metadata": {},
   "outputs": [],
   "source": [
    "quiz_list = []\n",
    "for key, value in quiz_data.items():\n",
    "    question = value['mcq']\n",
    "    options = value['options']\n",
    "    correct_ans = value['correct']\n",
    "    row = {\n",
    "        'question': question,\n",
    "        'optiona': options.get('a', ''),\n",
    "        'optionb': options.get('b', ''),\n",
    "        'optionc': options.get('c', ''),\n",
    "        'optiond': options.get('d', ''),\n",
    "        'correctans': correct_ans\n",
    "    }\n",
    "    quiz_list.append(row)\n",
    "\n",
    "# Convert to DataFrame\n",
    "df_quiz = pd.DataFrame(quiz_list)\n",
    "\n",
    "# Save to CSV\n",
    "df_quiz.to_csv('quiz_questions.csv', index=False)"
   ]
  }
 ],
 "metadata": {
  "kernelspec": {
   "display_name": "analyzerenv",
   "language": "python",
   "name": "python3"
  },
  "language_info": {
   "codemirror_mode": {
    "name": "ipython",
    "version": 3
   },
   "file_extension": ".py",
   "mimetype": "text/x-python",
   "name": "python",
   "nbconvert_exporter": "python",
   "pygments_lexer": "ipython3",
   "version": "3.12.4"
  }
 },
 "nbformat": 4,
 "nbformat_minor": 2
}
